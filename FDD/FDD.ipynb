{
 "cells": [
  {
   "cell_type": "markdown",
   "metadata": {},
   "source": [
    "###  Exploration du dataset :"
   ]
  },
  {
   "cell_type": "markdown",
   "metadata": {},
   "source": [
    " l'importation des bibliotèque :"
   ]
  },
  {
   "cell_type": "code",
   "execution_count": 1,
   "metadata": {},
   "outputs": [],
   "source": [
    "import numpy as np\n",
    "import pandas as pd\n",
    "import matplotlib.pyplot as plt"
   ]
  },
  {
   "cell_type": "markdown",
   "metadata": {},
   "source": [
    "- numpy --> pour le calcul scientifique .\n",
    "- pandas --> pour les structures de données et les outils d'analyse de données.\n",
    "- matplotlib --> pour outils de visualisation de données."
   ]
  },
  {
   "cell_type": "markdown",
   "metadata": {},
   "source": [
    " Afficher des dataset /chargement :"
   ]
  },
  {
   "cell_type": "code",
   "execution_count": 2,
   "metadata": {},
   "outputs": [
    {
     "name": "stdout",
     "output_type": "stream",
     "text": [
      "       39         State-gov   77516   Bachelors  13       Never-married  \\\n",
      "0      50  Self-emp-not-inc   83311   Bachelors  13  Married-civ-spouse   \n",
      "1      38           Private  215646     HS-grad   9            Divorced   \n",
      "2      53           Private  234721        11th   7  Married-civ-spouse   \n",
      "3      28           Private  338409   Bachelors  13  Married-civ-spouse   \n",
      "4      37           Private  284582     Masters  14  Married-civ-spouse   \n",
      "...    ..               ...     ...         ...  ..                 ...   \n",
      "32555  27           Private  257302  Assoc-acdm  12  Married-civ-spouse   \n",
      "32556  40           Private  154374     HS-grad   9  Married-civ-spouse   \n",
      "32557  58           Private  151910     HS-grad   9             Widowed   \n",
      "32558  22           Private  201490     HS-grad   9       Never-married   \n",
      "32559  52      Self-emp-inc  287927     HS-grad   9  Married-civ-spouse   \n",
      "\n",
      "            Adm-clerical  Not-in-family  White    Male   2174  0  40  \\\n",
      "0        Exec-managerial        Husband  White    Male      0  0  13   \n",
      "1      Handlers-cleaners  Not-in-family  White    Male      0  0  40   \n",
      "2      Handlers-cleaners        Husband  Black    Male      0  0  40   \n",
      "3         Prof-specialty           Wife  Black  Female      0  0  40   \n",
      "4        Exec-managerial           Wife  White  Female      0  0  40   \n",
      "...                  ...            ...    ...     ...    ... ..  ..   \n",
      "32555       Tech-support           Wife  White  Female      0  0  38   \n",
      "32556  Machine-op-inspct        Husband  White    Male      0  0  40   \n",
      "32557       Adm-clerical      Unmarried  White  Female      0  0  40   \n",
      "32558       Adm-clerical      Own-child  White    Male      0  0  20   \n",
      "32559    Exec-managerial           Wife  White  Female  15024  0  40   \n",
      "\n",
      "       United-States  <=50K  \n",
      "0      United-States  <=50K  \n",
      "1      United-States  <=50K  \n",
      "2      United-States  <=50K  \n",
      "3               Cuba  <=50K  \n",
      "4      United-States  <=50K  \n",
      "...              ...    ...  \n",
      "32555  United-States  <=50K  \n",
      "32556  United-States   >50K  \n",
      "32557  United-States  <=50K  \n",
      "32558  United-States  <=50K  \n",
      "32559  United-States   >50K  \n",
      "\n",
      "[32560 rows x 15 columns]\n"
     ]
    }
   ],
   "source": [
    "data = pd.read_csv('./adult.csv')\n",
    "print(data)\n"
   ]
  },
  {
   "cell_type": "code",
   "execution_count": 3,
   "metadata": {},
   "outputs": [
    {
     "data": {
      "text/plain": [
       "(32560, 15)"
      ]
     },
     "execution_count": 3,
     "metadata": {},
     "output_type": "execute_result"
    }
   ],
   "source": [
    "# le nomber des lignes et colones :\n",
    "data.shape"
   ]
  },
  {
   "cell_type": "markdown",
   "metadata": {},
   "source": [
    "le dataset contient 15 attribut , 32560 individus ."
   ]
  },
  {
   "cell_type": "code",
   "execution_count": 4,
   "metadata": {},
   "outputs": [
    {
     "name": "stdout",
     "output_type": "stream",
     "text": [
      "<class 'pandas.core.frame.DataFrame'>\n",
      "RangeIndex: 32560 entries, 0 to 32559\n",
      "Data columns (total 15 columns):\n",
      " #   Column          Non-Null Count  Dtype \n",
      "---  ------          --------------  ----- \n",
      " 0   age             32560 non-null  int64 \n",
      " 1   workclass       32560 non-null  object\n",
      " 2   fnlwgt          32560 non-null  int64 \n",
      " 3   education       32560 non-null  object\n",
      " 4   education_num   32560 non-null  int64 \n",
      " 5   marital-status  32560 non-null  object\n",
      " 6   occupation      32560 non-null  object\n",
      " 7   relationship    32560 non-null  object\n",
      " 8   race            32560 non-null  object\n",
      " 9   sex             32560 non-null  object\n",
      " 10  capital_gai     32560 non-null  int64 \n",
      " 11  capital_loss    32560 non-null  int64 \n",
      " 12  hours_per_week  32560 non-null  int64 \n",
      " 13  country         32560 non-null  object\n",
      " 14  income          32560 non-null  object\n",
      "dtypes: int64(6), object(9)\n",
      "memory usage: 3.7+ MB\n"
     ]
    }
   ],
   "source": [
    "# le type des données et valeurs possibles :\n",
    "\n",
    "data.columns = ['age', 'workclass' , 'fnlwgt', 'education',\n",
    "'education_num', 'marital-status', 'occupation', 'relationship', 'race',\n",
    "'sex', 'capital_gai', 'capital_loss', 'hours_per_week', 'country',\n",
    "'income']\n",
    "\n",
    "data.info()"
   ]
  },
  {
   "cell_type": "code",
   "execution_count": 5,
   "metadata": {},
   "outputs": [
    {
     "data": {
      "text/html": [
       "<div>\n",
       "<style scoped>\n",
       "    .dataframe tbody tr th:only-of-type {\n",
       "        vertical-align: middle;\n",
       "    }\n",
       "\n",
       "    .dataframe tbody tr th {\n",
       "        vertical-align: top;\n",
       "    }\n",
       "\n",
       "    .dataframe thead th {\n",
       "        text-align: right;\n",
       "    }\n",
       "</style>\n",
       "<table border=\"1\" class=\"dataframe\">\n",
       "  <thead>\n",
       "    <tr style=\"text-align: right;\">\n",
       "      <th></th>\n",
       "      <th>age</th>\n",
       "      <th>fnlwgt</th>\n",
       "      <th>education_num</th>\n",
       "      <th>capital_gai</th>\n",
       "      <th>capital_loss</th>\n",
       "      <th>hours_per_week</th>\n",
       "    </tr>\n",
       "  </thead>\n",
       "  <tbody>\n",
       "    <tr>\n",
       "      <th>count</th>\n",
       "      <td>32560.000000</td>\n",
       "      <td>3.256000e+04</td>\n",
       "      <td>32560.000000</td>\n",
       "      <td>32560.000000</td>\n",
       "      <td>32560.000000</td>\n",
       "      <td>32560.000000</td>\n",
       "    </tr>\n",
       "    <tr>\n",
       "      <th>mean</th>\n",
       "      <td>38.581634</td>\n",
       "      <td>1.897818e+05</td>\n",
       "      <td>10.080590</td>\n",
       "      <td>1077.615172</td>\n",
       "      <td>87.306511</td>\n",
       "      <td>40.437469</td>\n",
       "    </tr>\n",
       "    <tr>\n",
       "      <th>std</th>\n",
       "      <td>13.640642</td>\n",
       "      <td>1.055498e+05</td>\n",
       "      <td>2.572709</td>\n",
       "      <td>7385.402999</td>\n",
       "      <td>402.966116</td>\n",
       "      <td>12.347618</td>\n",
       "    </tr>\n",
       "    <tr>\n",
       "      <th>min</th>\n",
       "      <td>17.000000</td>\n",
       "      <td>1.228500e+04</td>\n",
       "      <td>1.000000</td>\n",
       "      <td>0.000000</td>\n",
       "      <td>0.000000</td>\n",
       "      <td>1.000000</td>\n",
       "    </tr>\n",
       "    <tr>\n",
       "      <th>25%</th>\n",
       "      <td>28.000000</td>\n",
       "      <td>1.178315e+05</td>\n",
       "      <td>9.000000</td>\n",
       "      <td>0.000000</td>\n",
       "      <td>0.000000</td>\n",
       "      <td>40.000000</td>\n",
       "    </tr>\n",
       "    <tr>\n",
       "      <th>50%</th>\n",
       "      <td>37.000000</td>\n",
       "      <td>1.783630e+05</td>\n",
       "      <td>10.000000</td>\n",
       "      <td>0.000000</td>\n",
       "      <td>0.000000</td>\n",
       "      <td>40.000000</td>\n",
       "    </tr>\n",
       "    <tr>\n",
       "      <th>75%</th>\n",
       "      <td>48.000000</td>\n",
       "      <td>2.370545e+05</td>\n",
       "      <td>12.000000</td>\n",
       "      <td>0.000000</td>\n",
       "      <td>0.000000</td>\n",
       "      <td>45.000000</td>\n",
       "    </tr>\n",
       "    <tr>\n",
       "      <th>max</th>\n",
       "      <td>90.000000</td>\n",
       "      <td>1.484705e+06</td>\n",
       "      <td>16.000000</td>\n",
       "      <td>99999.000000</td>\n",
       "      <td>4356.000000</td>\n",
       "      <td>99.000000</td>\n",
       "    </tr>\n",
       "  </tbody>\n",
       "</table>\n",
       "</div>"
      ],
      "text/plain": [
       "                age        fnlwgt  education_num   capital_gai  capital_loss  \\\n",
       "count  32560.000000  3.256000e+04   32560.000000  32560.000000  32560.000000   \n",
       "mean      38.581634  1.897818e+05      10.080590   1077.615172     87.306511   \n",
       "std       13.640642  1.055498e+05       2.572709   7385.402999    402.966116   \n",
       "min       17.000000  1.228500e+04       1.000000      0.000000      0.000000   \n",
       "25%       28.000000  1.178315e+05       9.000000      0.000000      0.000000   \n",
       "50%       37.000000  1.783630e+05      10.000000      0.000000      0.000000   \n",
       "75%       48.000000  2.370545e+05      12.000000      0.000000      0.000000   \n",
       "max       90.000000  1.484705e+06      16.000000  99999.000000   4356.000000   \n",
       "\n",
       "       hours_per_week  \n",
       "count    32560.000000  \n",
       "mean        40.437469  \n",
       "std         12.347618  \n",
       "min          1.000000  \n",
       "25%         40.000000  \n",
       "50%         40.000000  \n",
       "75%         45.000000  \n",
       "max         99.000000  "
      ]
     },
     "execution_count": 5,
     "metadata": {},
     "output_type": "execute_result"
    }
   ],
   "source": [
    "# les attributs numerique\n",
    "\n",
    "data.describe()"
   ]
  },
  {
   "cell_type": "markdown",
   "metadata": {},
   "source": [
    " _la question 1 :_    \n",
    "   \n",
    "\n",
    "le dataset :   \n",
    "  \n",
    "ensemble de données sur des observations concernant des différents paramètres financiers pour des adultes : âge, sexe, état civil ,pays, revenu , éducation , profession, gain en capital, et d'autres paramètres defini par suites ( attributs) .  \n",
    "\n",
    "      \n",
    "      \n",
    "les attributs sont :\n",
    " - age : l'age de l'individu , valeur continue positive .\n",
    " - workclass : la classe d'oeuvre , les valeurs possibles : Private, Self-emp-not-inc, Self-emp-inc, Federal-gov, Local-gov, State-gov, Without-pay, Never-worked.\n",
    " - fnlwgt : le poids final, qui est le nombre d'unités dans la population cible que l'unité répondante représente , valeur continue positive .\n",
    " - education : le niveau d’études atteint par l’individu, les valeurs possibles: Bachelors, Some-college, 11th, HS-grad, Prof-school, Assoc-acdm, Assoc-voc, 9th, 7th-8th, 12th, Masters, 1st-4th, 10th, Doctorate, 5th-6th, Preschool.\n",
    " - education_num : le nombre total d'années d'études, qui est une représentation continue de la variable discrète éducation.\n",
    " - marital-status : l'état civil ,les valeurs possibles : Married-civ-spouse, Divorced, Never-married, Separated, Widowed, Married-spouse-absent, Married-AF-spouse.\n",
    " - occupation : la profession ,les valeurs possibles : Tech-support, Craft-repair, Other-service, Sales, Exec-managerial, Prof-specialty, Handlers-cleaners, Machine-op-inspct, Adm-clerical, Farming-fishing, Transport-moving, Priv-house-serv, Protective-serv, Armed-Forces.\n",
    " - relationship : le rôle de l'unité répondante dans la famille ,les valeurs possibles : Wife, Own-child, Husband, Not-in-family, Other-relative, Unmarried.\n",
    " - race : la race de l'individu, les valeurs possibles: White, Asian-Pac-Islander, Amer-Indian-Eskimo, Other, Black.\n",
    " - sex : Female, Male.\n",
    " - capital_gai / capital_loss : le revenus provenant de sources d'investissement autres que les salaires/salaires (gain /perte) , valeur continue .\n",
    " - hours_per_week : nombres des heures de travaille  par semain ,valeur continue positive .\n",
    " - country : le pays , les valeurs possibles:  United-States, Cambodia, England, Puerto-Rico, Canada, Germany, Outlying-US(Guam-USVI-etc), India, Japan, Greece, South, China, Cuba, Iran, Honduras, Philippines, Italy, Poland, Jamaica, Vietnam, Mexico, Portugal, Ireland, France, Dominican-Republic, Laos, Ecuador, Taiwan, Haiti, Columbia, Hungary, Guatemala, Nicaragua, Scotland, Thailand, Yugoslavia, El-Salvador, Trinadad&Tobago, Peru, Hong, Holand-Netherlands.\n",
    " - income : le revenu , les valeurs possibles: >50K , <=50K .\n",
    "\n"
   ]
  },
  {
   "cell_type": "markdown",
   "metadata": {},
   "source": [
    "_la question 2 :_  maximum, minimum, moyenne et l'écart type des attributs numériques. "
   ]
  },
  {
   "cell_type": "markdown",
   "metadata": {},
   "source": [
    "le max , min , moyenne , l’écart-type de l’âge :"
   ]
  },
  {
   "cell_type": "code",
   "execution_count": 6,
   "metadata": {},
   "outputs": [
    {
     "name": "stdout",
     "output_type": "stream",
     "text": [
      "le max de l'age :  90\n",
      "le min de l'age :  17\n",
      "la moyenne de l'age :  38.581633906633904\n",
      "l’écart-type de l'age :  13.64064182746401\n"
     ]
    }
   ],
   "source": [
    "max_age = data['age'].max()\n",
    "min_age = data['age'].min() \n",
    "mean_age = data['age'].mean()\n",
    "std_age = data['age'].std()\n",
    "\n",
    "print(\"le max de l'age : \" , max_age)\n",
    "print(\"le min de l'age : \" , min_age)\n",
    "print(\"la moyenne de l'age : \" , mean_age)\n",
    "print(\"l’écart-type de l'age : \" , std_age)"
   ]
  },
  {
   "cell_type": "markdown",
   "metadata": {},
   "source": [
    "le max , min , moyenne , l’écart-type de capital_gai :"
   ]
  },
  {
   "cell_type": "code",
   "execution_count": 7,
   "metadata": {},
   "outputs": [
    {
     "name": "stdout",
     "output_type": "stream",
     "text": [
      "le max de capital_gai:  99999\n",
      "le min de capital_gai :  0\n",
      "la moyenne de capital_gai :  1077.615171990172\n",
      "l’écart-type de capital_gai :  7385.402998548501\n"
     ]
    }
   ],
   "source": [
    "max_capital_gai = data['capital_gai'].max()\n",
    "min_capital_gai = data['capital_gai'].min()\n",
    "mean_capital_gai = data['capital_gai'].mean()\n",
    "std_capital_gai = data['capital_gai'].std()\n",
    "\n",
    "print(\"le max de capital_gai: \" , max_capital_gai)\n",
    "print(\"le min de capital_gai : \" , min_capital_gai)\n",
    "print(\"la moyenne de capital_gai : \" , mean_capital_gai)\n",
    "print(\"l’écart-type de capital_gai : \" , std_capital_gai)"
   ]
  },
  {
   "cell_type": "markdown",
   "metadata": {},
   "source": [
    "le max , min , moyenne , l’écart-type de capital_loss : "
   ]
  },
  {
   "cell_type": "code",
   "execution_count": 8,
   "metadata": {},
   "outputs": [
    {
     "name": "stdout",
     "output_type": "stream",
     "text": [
      "le max de capital_loss :  4356\n",
      "le min de capital_loss :  0\n",
      "la moyenne de capital_loss :  87.30651105651106\n",
      "l’écart-type de capital_loss :  402.96611627962943\n"
     ]
    }
   ],
   "source": [
    "max_capital_loss = data['capital_loss'].max()\n",
    "min_capital_loss = data['capital_loss'].min()\n",
    "mean_capital_loss = data['capital_loss'].mean()\n",
    "std_capital_loss = data['capital_loss'].std()\n",
    "\n",
    "print(\"le max de capital_loss : \" , max_capital_loss)\n",
    "print(\"le min de capital_loss : \" , min_capital_loss)\n",
    "print(\"la moyenne de capital_loss : \" , mean_capital_loss)\n",
    "print(\"l’écart-type de capital_loss : \" , std_capital_loss)"
   ]
  },
  {
   "cell_type": "markdown",
   "metadata": {},
   "source": [
    "le max , min , moyenne , l’écart-type de hours_per_week :"
   ]
  },
  {
   "cell_type": "code",
   "execution_count": 9,
   "metadata": {},
   "outputs": [
    {
     "name": "stdout",
     "output_type": "stream",
     "text": [
      "le max de hours_per_week :  99\n",
      "le min de hours_per_week :  1\n",
      "la moyenne de hours_per_week :  40.437469287469284\n",
      "l’écart-type de hours_per_week :  12.347618058479531\n"
     ]
    }
   ],
   "source": [
    "max_hours_per_week = data['hours_per_week'].max()\n",
    "min_hours_per_week = data['hours_per_week'].min()\n",
    "mean_hours_per_week = data['hours_per_week'].mean()\n",
    "std_hours_per_week = data['hours_per_week'].std()\n",
    "\n",
    "print(\"le max de hours_per_week : \" , max_hours_per_week)\n",
    "print(\"le min de hours_per_week : \" , min_hours_per_week)\n",
    "print(\"la moyenne de hours_per_week : \" , mean_hours_per_week)\n",
    "print(\"l’écart-type de hours_per_week : \" , std_hours_per_week)"
   ]
  },
  {
   "cell_type": "markdown",
   "metadata": {},
   "source": [
    "_la question 3 :_ le nombre d’individus qui gagnent plus de 50.000$ et ceux qui gagnent moins ainsi que leurs\n",
    "pourcentages."
   ]
  },
  {
   "cell_type": "code",
   "execution_count": 10,
   "metadata": {},
   "outputs": [
    {
     "name": "stdout",
     "output_type": "stream",
     "text": [
      "le nombre d’individus qui gagnent plus de 50.000$ :  7841\n",
      "le pourcentages d’individus qui gagnent plus de 50.000$ :  24.081695331695332 %\n",
      "le nombre d’individus qui gagnent moin de 50.000$ :  24719\n",
      "le pourcentages d’individus qui gagnent moin de 50.000$ :  75.91830466830467 %\n"
     ]
    }
   ],
   "source": [
    "nbr_over = len(data[(data.income == '>50K')])\n",
    "pourcentage_over = (nbr_over *100) / len(data)\n",
    "nbr_less = len(data[(data.income == '<=50K')])\n",
    "pourcentage_less = (nbr_less*100) / len(data)\n",
    "\n",
    "print(\"le nombre d’individus qui gagnent plus de 50.000$ : \" , nbr_over)\n",
    "print(\"le pourcentages d’individus qui gagnent plus de 50.000$ : \" , pourcentage_over , \"%\")\n",
    "print(\"le nombre d’individus qui gagnent moin de 50.000$ : \" , nbr_less)\n",
    "print(\"le pourcentages d’individus qui gagnent moin de 50.000$ : \" , pourcentage_less , \"%\")"
   ]
  },
  {
   "cell_type": "markdown",
   "metadata": {},
   "source": [
    "_la question 4 :_  le nombre d’hommes et de femmes."
   ]
  },
  {
   "cell_type": "code",
   "execution_count": 11,
   "metadata": {},
   "outputs": [
    {
     "name": "stdout",
     "output_type": "stream",
     "text": [
      "le nombre des femmes :  10771\n",
      "le nombre des hommes :  21789\n"
     ]
    }
   ],
   "source": [
    "femme = len(data[(data.sex == 'Female')])\n",
    "homme = len(data[(data.sex == 'Male')])\n",
    "\n",
    "\n",
    "print(\"le nombre des femmes : \" ,femme )\n",
    "print(\"le nombre des hommes : \" ,homme  )"
   ]
  },
  {
   "cell_type": "markdown",
   "metadata": {},
   "source": [
    "_la question 5 :_ le nombre d’hommes qui gagnent plus de 50.000$ et ceux qui gagnent moins ainsi que leurs\n",
    "pourcentages. "
   ]
  },
  {
   "cell_type": "code",
   "execution_count": 12,
   "metadata": {},
   "outputs": [
    {
     "name": "stdout",
     "output_type": "stream",
     "text": [
      "le nombre d’hommes qui gagnent plus de 50.000$ :  6662\n",
      "le pourcentage d’hommes qui gagnent plus de 50.000$ (par rapport le nombre des hommes ) :  30.575060810500712 %\n",
      "le pourcentage d’hommes qui gagnent plus de 50.000$ (par rapport le nombre des individus ) :  20.46068796068796 %\n",
      "le nombre d’hommes qui gagnent moin de 50.000$ :  15127\n",
      "le pourcentage d’hommes qui gagnent moin de 50.000$ (par rapport le nombre des hommes ) :  69.42493918949928 %\n",
      "le pourcentage d’hommes qui gagnent moin de 50.000$ (par rapport le nombre des individus ) :  46.45884520884521 %\n"
     ]
    }
   ],
   "source": [
    "nbr_homme_over = len(data[(data.sex == 'Male') & (data.income == '>50K')])\n",
    "pourcentage_homme_over = (nbr_homme_over*100) / homme\n",
    "pourcentage_homme_over_total = (nbr_homme_over*100) / len(data)\n",
    "nbr_homme_less = len(data[(data.sex == 'Male') & (data.income == '<=50K')])\n",
    "pourcentage_homme_less = ( nbr_homme_less*100) / homme\n",
    "pourcentage_homme_less_total = (nbr_homme_less*100) / len(data)\n",
    "\n",
    "print(\"le nombre d’hommes qui gagnent plus de 50.000$ : \" , nbr_homme_over)\n",
    "print(\"le pourcentage d’hommes qui gagnent plus de 50.000$ (par rapport le nombre des hommes ) : \" , pourcentage_homme_over , \"%\")\n",
    "print(\"le pourcentage d’hommes qui gagnent plus de 50.000$ (par rapport le nombre des individus ) : \" , pourcentage_homme_over_total , \"%\")\n",
    "print(\"le nombre d’hommes qui gagnent moin de 50.000$ : \" , nbr_homme_less)\n",
    "print(\"le pourcentage d’hommes qui gagnent moin de 50.000$ (par rapport le nombre des hommes ) : \" , pourcentage_homme_less , \"%\")\n",
    "print(\"le pourcentage d’hommes qui gagnent moin de 50.000$ (par rapport le nombre des individus ) : \" , pourcentage_homme_less_total , \"%\")"
   ]
  },
  {
   "cell_type": "markdown",
   "metadata": {},
   "source": [
    "_la question 6 :_  Donner le nombre de femmes qui gagnent plus de 50.000$ et ceux qui gagnent moins ainsi que leurs\n",
    "pourcentages. "
   ]
  },
  {
   "cell_type": "code",
   "execution_count": 13,
   "metadata": {},
   "outputs": [
    {
     "name": "stdout",
     "output_type": "stream",
     "text": [
      "le nombre des femmes qui gagnent plus de 50.000$ :  1179\n",
      "le pourcentage des femmes qui gagnent plus de 50.000$ (par rapport le nombre des femmes ) :  10.946058861758425 %\n",
      "le pourcentage des femmes qui gagnent plus de 50.000$ (par rapport le nombre des individus ) :  3.621007371007371 %\n",
      "le nombre des femmes qui gagnent moin de 50.000$ :  9592\n",
      "le pourcentage des femmes qui gagnent moin de 50.000$ (par rapport le nombre des femmes ) :  89.05394113824157 %\n",
      "le pourcentage des femmes qui gagnent moin de 50.000$ (par rapport le nombre des individus ) :  29.45945945945946 %\n"
     ]
    }
   ],
   "source": [
    "nbr_femme_over = len(data[(data.sex == 'Female') & (data.income == '>50K')])\n",
    "pourcentage_femme_over = (nbr_femme_over*100) / femme\n",
    "pourcentage_femme_over_total = (nbr_femme_over*100) / len(data)\n",
    "nbr_femme_less = len(data[(data.sex == 'Female') & (data.income == '<=50K')])\n",
    "pourcentage_femme_less = ( nbr_femme_less*100) / femme\n",
    "pourcentage_femme_less_total = (nbr_femme_less*100) / len(data)\n",
    "\n",
    "print(\"le nombre des femmes qui gagnent plus de 50.000$ : \" , nbr_femme_over)\n",
    "print(\"le pourcentage des femmes qui gagnent plus de 50.000$ (par rapport le nombre des femmes ) : \" , pourcentage_femme_over , \"%\")\n",
    "print(\"le pourcentage des femmes qui gagnent plus de 50.000$ (par rapport le nombre des individus ) : \" , pourcentage_femme_over_total , \"%\")\n",
    "print(\"le nombre des femmes qui gagnent moin de 50.000$ : \" , nbr_femme_less)\n",
    "print(\"le pourcentage des femmes qui gagnent moin de 50.000$ (par rapport le nombre des femmes ) : \" , pourcentage_femme_less , \"%\")\n",
    "print(\"le pourcentage des femmes qui gagnent moin de 50.000$ (par rapport le nombre des individus ) : \" , pourcentage_femme_less_total , \"%\")"
   ]
  },
  {
   "cell_type": "markdown",
   "metadata": {},
   "source": [
    "_la question 7 :_ le nuage de points montrant la distribution de l’âge des enregistrements (âge vs nombre\n",
    "d’entrées)."
   ]
  },
  {
   "cell_type": "code",
   "execution_count": 14,
   "metadata": {},
   "outputs": [
    {
     "data": {
      "text/plain": [
       "<function matplotlib.pyplot.show(close=None, block=None)>"
      ]
     },
     "execution_count": 14,
     "metadata": {},
     "output_type": "execute_result"
    },
    {
     "data": {
      "image/png": "[encoded data removed]",
      "text/plain": [
       "<Figure size 432x288 with 1 Axes>"
      ]
     },
     "metadata": {
      "needs_background": "light"
     },
     "output_type": "display_data"
    }
   ],
   "source": [
    "plt.xlabel('l\\'age')\n",
    "plt.ylabel('le nombres d\\'individu')\n",
    "plt.title('le nuage de points')\n",
    "plt.scatter(x=data.age, y=data.index[0:len(data)], color=\"green\")\n",
    "plt.show"
   ]
  },
  {
   "cell_type": "markdown",
   "metadata": {},
   "source": [
    "_la question 8 :_"
   ]
  },
  {
   "cell_type": "code",
   "execution_count": 15,
   "metadata": {},
   "outputs": [
    {
     "data": {
      "image/png": "[encoded data removed]",
      "text/plain": [
       "<Figure size 432x288 with 1 Axes>"
      ]
     },
     "metadata": {
      "needs_background": "light"
     },
     "output_type": "display_data"
    }
   ],
   "source": [
    "data.groupby('income').age.mean().plot(kind='bar')\n",
    "plt.show() "
   ]
  },
  {
   "cell_type": "markdown",
   "metadata": {},
   "source": [
    "_la question 9 :_   les questions 6 et 7(le niveau d’études au lieu de l’âge ) ."
   ]
  },
  {
   "cell_type": "markdown",
   "metadata": {},
   "source": [
    "extraire le groupe des femme"
   ]
  },
  {
   "cell_type": "code",
   "execution_count": 16,
   "metadata": {},
   "outputs": [],
   "source": [
    "G_F=data[(data.sex == 'Female')]\n",
    "\n",
    "# >5oK\n",
    "G_F_over=data[(data.sex == 'Female') & (data.income == '>50K')]\n",
    "\n",
    "# <=50K\n",
    "G_F_Less=data[(data.sex == 'Female') & (data.income =='<=50K')]"
   ]
  },
  {
   "cell_type": "markdown",
   "metadata": {},
   "source": [
    "la moyenne , la médiane , la variance et l’écart-type "
   ]
  },
  {
   "cell_type": "code",
   "execution_count": 17,
   "metadata": {},
   "outputs": [
    {
     "name": "stdout",
     "output_type": "stream",
     "text": [
      "la moyenne de education_num (pour les femme ):  10.03574412775044\n",
      "la médiane de education_num (pour les femme ) :  10.0\n",
      "la variance de education_num (pour les femme ):  5.6641818487294415\n",
      "l’écart-type de education_num (pour les femme ) :  2.3799541694598747\n",
      "la moyenne de education_num (pour les femme qui gagnent plus de 50.000$ ):  11.787107718405428\n",
      "la médiane de education_num (pour les femme qui gagnent plus de 50.000$) :  13.0\n",
      "la variance de education_num (pour les femme qui gagnent plus de 50.000$):  5.018305634397081\n",
      "l’écart-type de education_num (pour les femme qui gagnent plus de 50.000$ ) :  2.24015750214066\n",
      "la moyenne de education_num (pour les femme qui gagnent plus de 50.000$ ):  9.82047539616347\n",
      "la médiane de education_num (pour les femme qui gagnent plus de 50.000$) :  10.0\n",
      "la variance de education_num (pour les femme qui gagnent plus de 50.000$):  5.3207025995405575\n",
      "l’écart-type de education_num (pour les femme qui gagnent plus de 50.000$ ) :  2.3066648216723116\n"
     ]
    }
   ],
   "source": [
    " \n",
    "\n",
    "# le groupr des femmes 'moyenne'\n",
    "G_F_moy = G_F['education_num'].mean()\n",
    "\n",
    "# le groupr des femmes 'median'\n",
    "G_F_med = G_F['education_num'].median()\n",
    "\n",
    "#le groupr des femmes ' variance'\n",
    "G_F_var = G_F['education_num'].var()\n",
    "\n",
    "#le groupr des femmes 'l’écart-type '\n",
    "G_F_et = G_F['education_num'].std()\n",
    "\n",
    " \n",
    "\n",
    "print(\"la moyenne de education_num (pour les femme ): \" , G_F_moy) \n",
    "print(\"la médiane de education_num (pour les femme ) : \" , G_F_med) \n",
    "print(\"la variance de education_num (pour les femme ): \" , G_F_var) \n",
    "print(\"l’écart-type de education_num (pour les femme ) : \" , G_F_et) \n",
    " \n",
    "\n",
    "#  femmes qui gagnent plus de 50.000$ 'moyenne' selent niveau d'etude\n",
    "G_F_O_moy = G_F_over['education_num'].mean()\n",
    "\n",
    "#  femmes qui gagnent plus de 50.000$ 'median' selent niveau d'etude\n",
    "G_F_O_med = G_F_over['education_num'].median()\n",
    "\n",
    "#  femmes qui gagnent plus de 50.000$ 'variance' selent niveau d'etude\n",
    "G_F_O_var = G_F_over['education_num'].var()\n",
    "\n",
    "#  femmes qui gagnent plus de 50.000$ 'l’écart-type' selent niveau d'etude\n",
    "G_F_O_et = G_F_over['education_num'].std()\n",
    "\n",
    "\n",
    "print(\"la moyenne de education_num (pour les femme qui gagnent plus de 50.000$ ): \" , G_F_O_moy) \n",
    "print(\"la médiane de education_num (pour les femme qui gagnent plus de 50.000$) : \" , G_F_O_med) \n",
    "print(\"la variance de education_num (pour les femme qui gagnent plus de 50.000$): \" , G_F_O_var) \n",
    "print(\"l’écart-type de education_num (pour les femme qui gagnent plus de 50.000$ ) : \" , G_F_O_et) \n",
    "\n",
    "# femmes qui gagnent moins de 50.000$ 'moyenne' selent niveau d'etude\n",
    "G_F_L_moy = G_F_Less['education_num'].mean()\n",
    "\n",
    "# e femmes qui gagnent moins de 50.000$ 'median' selent niveau d'etude\n",
    "G_F_L_med = G_F_Less['education_num'].median()\n",
    " \n",
    "# e femmes qui gagnent moins de 50.000$ 'variance' selent niveau d'etude\n",
    "G_F_L_var = G_F_Less['education_num'].var()\n",
    "\n",
    "# e femmes qui gagnent moins de 50.000$ 'l’écart-type' selent niveau d'etude\n",
    "G_F_L_et = G_F_Less['education_num'].std()\n",
    "\n",
    "\n",
    "print(\"la moyenne de education_num (pour les femme qui gagnent plus de 50.000$ ): \" , G_F_L_moy) \n",
    "print(\"la médiane de education_num (pour les femme qui gagnent plus de 50.000$) : \" , G_F_L_med) \n",
    "print(\"la variance de education_num (pour les femme qui gagnent plus de 50.000$): \" , G_F_L_var) \n",
    "print(\"l’écart-type de education_num (pour les femme qui gagnent plus de 50.000$ ) : \" , G_F_L_et)\n",
    "\n"
   ]
  },
  {
   "cell_type": "markdown",
   "metadata": {},
   "source": [
    " Représenter la distribution de education_num par un histogramme pour tout les femmes \n"
   ]
  },
  {
   "cell_type": "code",
   "execution_count": 18,
   "metadata": {},
   "outputs": [
    {
     "data": {
      "image/png": "[encoded data removed]",
      "text/plain": [
       "<Figure size 432x288 with 1 Axes>"
      ]
     },
     "metadata": {
      "needs_background": "light"
     },
     "output_type": "display_data"
    }
   ],
   "source": [
    "G_F_eduction=G_F['education_num']\n",
    "\n",
    "plt.hist(G_F_eduction)\n",
    "plt.show()"
   ]
  },
  {
   "cell_type": "markdown",
   "metadata": {},
   "source": [
    "Représenter la distribution de education_num par un histogramme pour  les femmes  gagnent plus de 50.000$ \n"
   ]
  },
  {
   "cell_type": "code",
   "execution_count": 19,
   "metadata": {},
   "outputs": [
    {
     "data": {
      "image/png": "[encoded data removed]",
      "text/plain": [
       "<Figure size 432x288 with 1 Axes>"
      ]
     },
     "metadata": {
      "needs_background": "light"
     },
     "output_type": "display_data"
    }
   ],
   "source": [
    "G_F_eduction_over=G_F_over['education_num']\n",
    "plt.hist(G_F_eduction_over)\n",
    "plt.show()"
   ]
  },
  {
   "cell_type": "markdown",
   "metadata": {},
   "source": [
    "Représenter la distribution de education_num par un histogramme pour  les femmes  gagnent moins de 50.000$ \n"
   ]
  },
  {
   "cell_type": "code",
   "execution_count": 20,
   "metadata": {},
   "outputs": [
    {
     "data": {
      "image/png": "[encoded data removed]",
      "text/plain": [
       "<Figure size 432x288 with 1 Axes>"
      ]
     },
     "metadata": {
      "needs_background": "light"
     },
     "output_type": "display_data"
    }
   ],
   "source": [
    "G_F_eduction_Less=G_F_Less['education_num']\n",
    "plt.hist(G_F_eduction_Less)\n",
    "plt.show()"
   ]
  },
  {
   "cell_type": "markdown",
   "metadata": {},
   "source": [
    "le nuage de points montrant la distribution de niveau d'etude des enregistrements "
   ]
  },
  {
   "cell_type": "code",
   "execution_count": 21,
   "metadata": {},
   "outputs": [
    {
     "data": {
      "text/plain": [
       "<function matplotlib.pyplot.show(close=None, block=None)>"
      ]
     },
     "execution_count": 21,
     "metadata": {},
     "output_type": "execute_result"
    },
    {
     "data": {
      "image/png": "[encoded data removed]",
      "text/plain": [
       "<Figure size 432x288 with 1 Axes>"
      ]
     },
     "metadata": {
      "needs_background": "light"
     },
     "output_type": "display_data"
    }
   ],
   "source": [
    "plt.xlabel('l\\'niveau')\n",
    "plt.ylabel('le nombres d\\'individu')\n",
    "plt.title('le nuage de points')\n",
    "plt.scatter(x=data.education_num, y=data.index[0:len(data)], color=\"red\")\n",
    "plt.show"
   ]
  },
  {
   "cell_type": "markdown",
   "metadata": {},
   "source": [
    "_la question 10 :_   les questions 6 et 7(le statut de l’employé (self-employed, private, federalgov, …) au lieu de l’âge)"
   ]
  },
  {
   "cell_type": "code",
   "execution_count": 22,
   "metadata": {},
   "outputs": [
    {
     "name": "stdout",
     "output_type": "stream",
     "text": [
      "workclass\n",
      "?                    1836\n",
      "Federal-gov           960\n",
      "Local-gov            2093\n",
      "Never-worked            7\n",
      "Private             22696\n",
      "Self-emp-inc         1116\n",
      "Self-emp-not-inc     2541\n",
      "State-gov            1297\n",
      "Without-pay            14\n",
      "dtype: int64\n"
     ]
    }
   ],
   "source": [
    "data['workclass']\n",
    "\n",
    "CD = data.groupby('workclass').size()\n",
    "print(CD)\n"
   ]
  },
  {
   "cell_type": "markdown",
   "metadata": {},
   "source": [
    "convert-categorical-variable-to-numeric statut de l’employé"
   ]
  },
  {
   "cell_type": "code",
   "execution_count": 23,
   "metadata": {},
   "outputs": [],
   "source": [
    "data_workclass = pd.read_csv('./adult.csv')\n",
    "data_workclass.columns = ['age', 'workclass' , 'fnlwgt', 'education',\n",
    "'education_num', 'marital-status', 'occupation', 'relationship', 'race',\n",
    "'sex', 'capital_gai', 'capital_loss', 'hours_per_week', 'country',\n",
    "'income'] "
   ]
  },
  {
   "cell_type": "code",
   "execution_count": 24,
   "metadata": {},
   "outputs": [
    {
     "name": "stdout",
     "output_type": "stream",
     "text": [
      "       age  workclass  fnlwgt   education  education_num      marital-status  \\\n",
      "0       50          6   83311   Bachelors             13  Married-civ-spouse   \n",
      "1       38          4  215646     HS-grad              9            Divorced   \n",
      "2       53          4  234721        11th              7  Married-civ-spouse   \n",
      "3       28          4  338409   Bachelors             13  Married-civ-spouse   \n",
      "4       37          4  284582     Masters             14  Married-civ-spouse   \n",
      "...    ...        ...     ...         ...            ...                 ...   \n",
      "32555   27          4  257302  Assoc-acdm             12  Married-civ-spouse   \n",
      "32556   40          4  154374     HS-grad              9  Married-civ-spouse   \n",
      "32557   58          4  151910     HS-grad              9             Widowed   \n",
      "32558   22          4  201490     HS-grad              9       Never-married   \n",
      "32559   52          5  287927     HS-grad              9  Married-civ-spouse   \n",
      "\n",
      "              occupation   relationship   race     sex  capital_gai  \\\n",
      "0        Exec-managerial        Husband  White    Male            0   \n",
      "1      Handlers-cleaners  Not-in-family  White    Male            0   \n",
      "2      Handlers-cleaners        Husband  Black    Male            0   \n",
      "3         Prof-specialty           Wife  Black  Female            0   \n",
      "4        Exec-managerial           Wife  White  Female            0   \n",
      "...                  ...            ...    ...     ...          ...   \n",
      "32555       Tech-support           Wife  White  Female            0   \n",
      "32556  Machine-op-inspct        Husband  White    Male            0   \n",
      "32557       Adm-clerical      Unmarried  White  Female            0   \n",
      "32558       Adm-clerical      Own-child  White    Male            0   \n",
      "32559    Exec-managerial           Wife  White  Female        15024   \n",
      "\n",
      "       capital_loss  hours_per_week        country income  \n",
      "0                 0              13  United-States  <=50K  \n",
      "1                 0              40  United-States  <=50K  \n",
      "2                 0              40  United-States  <=50K  \n",
      "3                 0              40           Cuba  <=50K  \n",
      "4                 0              40  United-States  <=50K  \n",
      "...             ...             ...            ...    ...  \n",
      "32555             0              38  United-States  <=50K  \n",
      "32556             0              40  United-States   >50K  \n",
      "32557             0              40  United-States  <=50K  \n",
      "32558             0              20  United-States  <=50K  \n",
      "32559             0              40  United-States   >50K  \n",
      "\n",
      "[32560 rows x 15 columns]\n",
      "       age         workclass  fnlwgt   education  education_num  \\\n",
      "0       50  Self-emp-not-inc   83311   Bachelors             13   \n",
      "1       38           Private  215646     HS-grad              9   \n",
      "2       53           Private  234721        11th              7   \n",
      "3       28           Private  338409   Bachelors             13   \n",
      "4       37           Private  284582     Masters             14   \n",
      "...    ...               ...     ...         ...            ...   \n",
      "32555   27           Private  257302  Assoc-acdm             12   \n",
      "32556   40           Private  154374     HS-grad              9   \n",
      "32557   58           Private  151910     HS-grad              9   \n",
      "32558   22           Private  201490     HS-grad              9   \n",
      "32559   52      Self-emp-inc  287927     HS-grad              9   \n",
      "\n",
      "           marital-status         occupation   relationship   race     sex  \\\n",
      "0      Married-civ-spouse    Exec-managerial        Husband  White    Male   \n",
      "1                Divorced  Handlers-cleaners  Not-in-family  White    Male   \n",
      "2      Married-civ-spouse  Handlers-cleaners        Husband  Black    Male   \n",
      "3      Married-civ-spouse     Prof-specialty           Wife  Black  Female   \n",
      "4      Married-civ-spouse    Exec-managerial           Wife  White  Female   \n",
      "...                   ...                ...            ...    ...     ...   \n",
      "32555  Married-civ-spouse       Tech-support           Wife  White  Female   \n",
      "32556  Married-civ-spouse  Machine-op-inspct        Husband  White    Male   \n",
      "32557             Widowed       Adm-clerical      Unmarried  White  Female   \n",
      "32558       Never-married       Adm-clerical      Own-child  White    Male   \n",
      "32559  Married-civ-spouse    Exec-managerial           Wife  White  Female   \n",
      "\n",
      "       capital_gai  capital_loss  hours_per_week        country income  \n",
      "0                0             0              13  United-States  <=50K  \n",
      "1                0             0              40  United-States  <=50K  \n",
      "2                0             0              40  United-States  <=50K  \n",
      "3                0             0              40           Cuba  <=50K  \n",
      "4                0             0              40  United-States  <=50K  \n",
      "...            ...           ...             ...            ...    ...  \n",
      "32555            0             0              38  United-States  <=50K  \n",
      "32556            0             0              40  United-States   >50K  \n",
      "32557            0             0              40  United-States  <=50K  \n",
      "32558            0             0              20  United-States  <=50K  \n",
      "32559        15024             0              40  United-States   >50K  \n",
      "\n",
      "[32560 rows x 15 columns]\n"
     ]
    }
   ],
   "source": [
    "\n",
    "data_workclass['workclass'].replace(['?', 'Federal-gov','Local-gov','Never-worked','Private','Self-emp-inc','Self-emp-not-inc','State-gov','Without-pay'],[0, 1,2,3,4,5,6,7,8], inplace=True)\n",
    "print(data_workclass)\n",
    "print(data)"
   ]
  },
  {
   "cell_type": "code",
   "execution_count": 25,
   "metadata": {},
   "outputs": [
    {
     "name": "stdout",
     "output_type": "stream",
     "text": [
      "workclass\n",
      "0     1836\n",
      "1      960\n",
      "2     2093\n",
      "3        7\n",
      "4    22696\n",
      "5     1116\n",
      "6     2541\n",
      "7     1297\n",
      "8       14\n",
      "dtype: int64\n"
     ]
    }
   ],
   "source": [
    "CD2 = data_workclass.groupby('workclass').size()\n",
    "print(CD2)"
   ]
  },
  {
   "cell_type": "markdown",
   "metadata": {},
   "source": [
    "extraire le groupe des femme"
   ]
  },
  {
   "cell_type": "code",
   "execution_count": 26,
   "metadata": {},
   "outputs": [],
   "source": [
    "\n",
    "G_F=data_workclass[(data_workclass.sex == 'Female')]\n",
    "# >5oK\n",
    "G_F_over=data_workclass[(data_workclass.sex == 'Female') & (data_workclass.income == '>50K')]\n",
    "\n",
    "# <=50K\n",
    "G_F_Less=data_workclass[(data_workclass.sex == 'Female') & (data_workclass.income =='<=50K')]"
   ]
  },
  {
   "cell_type": "markdown",
   "metadata": {},
   "source": [
    "la moyenne et la médiane de workclass"
   ]
  },
  {
   "cell_type": "code",
   "execution_count": 27,
   "metadata": {},
   "outputs": [
    {
     "name": "stdout",
     "output_type": "stream",
     "text": [
      "la moyenne de workclass (pour les femme ):  3.670132763903073\n",
      "la médiane de workclass (pour les femme ):  4.0\n",
      "la médiane de workclass (pour les femme qui gagnent moins de 50.000$):  4.0\n"
     ]
    }
   ],
   "source": [
    "# le groupr des femmes 'moyenne'\n",
    "G_F_moy = G_F['workclass'].mean() \n",
    "print(\"la moyenne de workclass (pour les femme ): \" , G_F_moy)   \n",
    "\n",
    "# on ne peut pas prendre cette valeur en considération car apres la coversion de categorical-variable-to-numeric workclass , les valeur devienne : {0,1,2,3,4,5,6,7,8,}\n",
    "\n",
    "# le groupr des femmes 'median'\n",
    "G_F_med = G_F['workclass'].median()\n",
    "print(\"la médiane de workclass (pour les femme ): \" , G_F_med) \n",
    "\n",
    "# femmes qui gagnent moins de 50.000$ 'median' selon workclass\n",
    "G_F_med_les = G_F_Less['workclass'].median()\n",
    "print(\"la médiane de workclass (pour les femme qui gagnent moins de 50.000$): \" , G_F_med_les)"
   ]
  },
  {
   "cell_type": "markdown",
   "metadata": {},
   "source": [
    "Représenter la distribution de workclass par un histogramme pour tout les femmes "
   ]
  },
  {
   "cell_type": "code",
   "execution_count": 28,
   "metadata": {},
   "outputs": [
    {
     "data": {
      "image/png": "[encoded data removed]",
      "text/plain": [
       "<Figure size 432x288 with 1 Axes>"
      ]
     },
     "metadata": {
      "needs_background": "light"
     },
     "output_type": "display_data"
    }
   ],
   "source": [
    "G_F_workclass=G_F['workclass']\n",
    "plt.hist(G_F_workclass)\n",
    "plt.show()"
   ]
  },
  {
   "cell_type": "markdown",
   "metadata": {},
   "source": [
    "Représenter la distribution de workclass par un histogramme pour  les femmes  gagnent plus de 50.000$ \n"
   ]
  },
  {
   "cell_type": "code",
   "execution_count": 29,
   "metadata": {},
   "outputs": [
    {
     "data": {
      "image/png": "[encoded data removed]",
      "text/plain": [
       "<Figure size 432x288 with 1 Axes>"
      ]
     },
     "metadata": {
      "needs_background": "light"
     },
     "output_type": "display_data"
    }
   ],
   "source": [
    "G_F_workclass_over=G_F_over['workclass']\n",
    "\n",
    "plt.hist(G_F_workclass_over)\n",
    "plt.show()"
   ]
  },
  {
   "cell_type": "markdown",
   "metadata": {},
   "source": [
    " Représenter la distribution de workclass par un histogramme pour  les femmes  gagnent moins de 50.000$ "
   ]
  },
  {
   "cell_type": "code",
   "execution_count": 30,
   "metadata": {},
   "outputs": [
    {
     "data": {
      "image/png": "[encoded data removed]",
      "text/plain": [
       "<Figure size 432x288 with 1 Axes>"
      ]
     },
     "metadata": {
      "needs_background": "light"
     },
     "output_type": "display_data"
    }
   ],
   "source": [
    "G_F_workclass_Less=G_F_Less['workclass']\n",
    "plt.hist(G_F_workclass_Less)\n",
    "plt.show()"
   ]
  },
  {
   "cell_type": "markdown",
   "metadata": {},
   "source": [
    "le nuage de points montrant la distribution de workclass des enregistrements \n"
   ]
  },
  {
   "cell_type": "code",
   "execution_count": 31,
   "metadata": {},
   "outputs": [
    {
     "data": {
      "text/plain": [
       "<function matplotlib.pyplot.show(close=None, block=None)>"
      ]
     },
     "execution_count": 31,
     "metadata": {},
     "output_type": "execute_result"
    },
    {
     "data": {
      "image/png": "[encoded data removed]",
      "text/plain": [
       "<Figure size 432x288 with 1 Axes>"
      ]
     },
     "metadata": {
      "needs_background": "light"
     },
     "output_type": "display_data"
    }
   ],
   "source": [
    "plt.xlabel('l\\'workclass')\n",
    "plt.ylabel('le nombres d\\'individu')\n",
    "plt.title('le nuage de points')\n",
    "plt.scatter(x=data_workclass.workclass, y=data_workclass.index[0:len(data_workclass)], color=\"grey\")\n",
    "plt.show"
   ]
  },
  {
   "cell_type": "markdown",
   "metadata": {},
   "source": [
    "_la question 11 :_   les questions 6 et 7( le poste occupé (adm-clerical, sales, craft-repair, …) au lieu de l’âge)"
   ]
  },
  {
   "cell_type": "code",
   "execution_count": 32,
   "metadata": {},
   "outputs": [
    {
     "name": "stdout",
     "output_type": "stream",
     "text": [
      "occupation\n",
      "?                    1843\n",
      "Adm-clerical         3769\n",
      "Armed-Forces            9\n",
      "Craft-repair         4099\n",
      "Exec-managerial      4066\n",
      "Farming-fishing       994\n",
      "Handlers-cleaners    1370\n",
      "Machine-op-inspct    2002\n",
      "Other-service        3295\n",
      "Priv-house-serv       149\n",
      "Prof-specialty       4140\n",
      "Protective-serv       649\n",
      "Sales                3650\n",
      "Tech-support          928\n",
      "Transport-moving     1597\n",
      "dtype: int64\n"
     ]
    }
   ],
   "source": [
    "data['occupation']\n",
    "\n",
    "OCD = data.groupby('occupation').size()\n",
    "print(OCD)"
   ]
  },
  {
   "cell_type": "markdown",
   "metadata": {},
   "source": [
    "convert-categorical-variable-to-numeric statut de l’employé"
   ]
  },
  {
   "cell_type": "code",
   "execution_count": 33,
   "metadata": {},
   "outputs": [],
   "source": [
    "data_occupation = pd.read_csv('./adult.csv')\n",
    "data_occupation.columns = ['age', 'workclass' , 'fnlwgt', 'education',\n",
    "'education_num', 'marital-status', 'occupation', 'relationship', 'race',\n",
    "'sex', 'capital_gai', 'capital_loss', 'hours_per_week', 'country',\n",
    "'income']"
   ]
  },
  {
   "cell_type": "code",
   "execution_count": 34,
   "metadata": {},
   "outputs": [],
   "source": [
    "data_occupation['occupation'].replace(['?', 'Adm-clerical','Armed-Forces','Craft-repair','Exec-managerial','Farming-fishing','Handlers-cleaners','Machine-op-inspct','Other-service','Priv-house-serv','Prof-specialty','Protective-serv','Sales','Tech-support','Transport-moving'],[0, 1,2,3,4,5,6,7,8,9,10,11,12,13,14], inplace=True)"
   ]
  },
  {
   "cell_type": "code",
   "execution_count": 35,
   "metadata": {},
   "outputs": [
    {
     "name": "stdout",
     "output_type": "stream",
     "text": [
      "occupation\n",
      "0     1843\n",
      "1     3769\n",
      "2        9\n",
      "3     4099\n",
      "4     4066\n",
      "5      994\n",
      "6     1370\n",
      "7     2002\n",
      "8     3295\n",
      "9      149\n",
      "10    4140\n",
      "11     649\n",
      "12    3650\n",
      "13     928\n",
      "14    1597\n",
      "dtype: int64\n"
     ]
    }
   ],
   "source": [
    "OCD2 = data_occupation.groupby('occupation').size()\n",
    "print(OCD2)"
   ]
  },
  {
   "cell_type": "markdown",
   "metadata": {},
   "source": [
    "extraire le groupe des femme"
   ]
  },
  {
   "cell_type": "code",
   "execution_count": 36,
   "metadata": {},
   "outputs": [],
   "source": [
    "\n",
    "G_F=data_occupation[(data_occupation.sex == 'Female')]\n",
    "# >5oK\n",
    "G_F_over=data_occupation[(data_occupation.sex == 'Female') & (data_occupation.income == '>50K')]\n",
    "\n",
    "# <=50K\n",
    "G_F_Less=data_occupation[(data_occupation.sex == 'Female') & (data_occupation.income =='<=50K')]\n",
    " \n",
    "# on ne peut pas prendre cette valeur en considération car apres la coversion de categorical-variable-to-numeric occupation , les valeur devienne : {0,1,2,3,4,5,6,7,8,}\n"
   ]
  },
  {
   "cell_type": "markdown",
   "metadata": {},
   "source": [
    "la moyenne et la médiane d occupation"
   ]
  },
  {
   "cell_type": "code",
   "execution_count": 37,
   "metadata": {},
   "outputs": [
    {
     "name": "stdout",
     "output_type": "stream",
     "text": [
      "la médiane d occupation (pour les femme ):  7.0\n",
      "la médiane de workclass (pour les femmes qui gagnent moins de 50.000$  ):  7.0\n"
     ]
    }
   ],
   "source": [
    "# le groupr des femmes 'median'\n",
    "G_F_med = G_F['occupation'].median()\n",
    "# femmes qui gagnent moins de 50.000$ 'median' selon  l'occupation\n",
    "G_F_med_l = G_F_Less['occupation'].median()\n",
    "\n",
    "print(\"la médiane d occupation (pour les femme ): \" , G_F_med) \n",
    "print(\"la médiane de workclass (pour les femmes qui gagnent moins de 50.000$  ): \" , G_F_med_l) "
   ]
  },
  {
   "cell_type": "markdown",
   "metadata": {},
   "source": [
    "Représenter la distribution de occupation par un histogramme pour tout les femmes "
   ]
  },
  {
   "cell_type": "code",
   "execution_count": 38,
   "metadata": {},
   "outputs": [
    {
     "data": {
      "image/png": "[encoded data removed]",
      "text/plain": [
       "<Figure size 432x288 with 1 Axes>"
      ]
     },
     "metadata": {
      "needs_background": "light"
     },
     "output_type": "display_data"
    }
   ],
   "source": [
    "\n",
    "G_F_occupation=G_F['occupation']\n",
    "plt.hist(G_F_occupation, color=\"orange\")\n",
    "plt.show()"
   ]
  },
  {
   "cell_type": "markdown",
   "metadata": {},
   "source": [
    "Représenter la distribution de occupation par un histogramme pour  les femmes  gagnent plus de 50.000$ "
   ]
  },
  {
   "cell_type": "code",
   "execution_count": 39,
   "metadata": {},
   "outputs": [
    {
     "data": {
      "image/png": "[encoded data removed]",
      "text/plain": [
       "<Figure size 432x288 with 1 Axes>"
      ]
     },
     "metadata": {
      "needs_background": "light"
     },
     "output_type": "display_data"
    }
   ],
   "source": [
    "\n",
    "G_F_occupation_over=G_F_over['occupation']\n",
    "plt.hist(G_F_occupation_over, color=\"orange\")\n",
    "plt.show()"
   ]
  },
  {
   "cell_type": "markdown",
   "metadata": {},
   "source": [
    "Représenter la distribution de occupation par un histogramme pour  les femmes  gagnent moins de 50.000$ "
   ]
  },
  {
   "cell_type": "code",
   "execution_count": 40,
   "metadata": {},
   "outputs": [
    {
     "data": {
      "image/png": "[encoded data removed]",
      "text/plain": [
       "<Figure size 432x288 with 1 Axes>"
      ]
     },
     "metadata": {
      "needs_background": "light"
     },
     "output_type": "display_data"
    }
   ],
   "source": [
    "G_F_occupation_Less=G_F_Less['occupation']\n",
    "plt.hist(G_F_occupation_Less, color=\"orange\")\n",
    "plt.show()"
   ]
  },
  {
   "cell_type": "markdown",
   "metadata": {},
   "source": [
    "le nuage de points montrant la distribution de occupation des enregistrements "
   ]
  },
  {
   "cell_type": "code",
   "execution_count": 41,
   "metadata": {},
   "outputs": [
    {
     "data": {
      "text/plain": [
       "<function matplotlib.pyplot.show(close=None, block=None)>"
      ]
     },
     "execution_count": 41,
     "metadata": {},
     "output_type": "execute_result"
    },
    {
     "data": {
      "image/png": "[encoded data removed]",
      "text/plain": [
       "<Figure size 432x288 with 1 Axes>"
      ]
     },
     "metadata": {
      "needs_background": "light"
     },
     "output_type": "display_data"
    }
   ],
   "source": [
    "plt.xlabel('l\\'occupation')\n",
    "plt.ylabel('le nombres d\\'individu')\n",
    "plt.title('le nuage de points')\n",
    "plt.scatter(x=data_occupation.occupation, y=data_occupation.index[0:len(data_occupation)], color=\"yellow\")\n",
    "plt.show"
   ]
  },
  {
   "cell_type": "markdown",
   "metadata": {},
   "source": [
    "_la question 12 :_ un graphique de barres empilées présentant la relation entre le nombre d’heures travaillées et le\n",
    "revenu."
   ]
  },
  {
   "cell_type": "code",
   "execution_count": 42,
   "metadata": {},
   "outputs": [
    {
     "data": {
      "text/plain": [
       "<AxesSubplot:xlabel='income'>"
      ]
     },
     "execution_count": 42,
     "metadata": {},
     "output_type": "execute_result"
    },
    {
     "data": {
      "image/png": "[encoded data removed]",
      "text/plain": [
       "<Figure size 432x288 with 1 Axes>"
      ]
     },
     "metadata": {
      "needs_background": "light"
     },
     "output_type": "display_data"
    }
   ],
   "source": [
    "data.groupby('income').hours_per_week.mean().plot(kind='bar')\n",
    " "
   ]
  },
  {
   "cell_type": "markdown",
   "metadata": {},
   "source": [
    "_la question 13 :_  un graphique de barres empilées présentant la relation entre la race et le revenu"
   ]
  },
  {
   "cell_type": "code",
   "execution_count": 43,
   "metadata": {},
   "outputs": [
    {
     "data": {
      "image/png": "[encoded data removed]",
      "text/plain": [
       "<Figure size 432x288 with 1 Axes>"
      ]
     },
     "metadata": {
      "needs_background": "light"
     },
     "output_type": "display_data"
    }
   ],
   "source": [
    "data.groupby(['income','race']).size().unstack().plot(kind='bar',stacked=True)\n",
    "plt.show()"
   ]
  },
  {
   "cell_type": "markdown",
   "metadata": {},
   "source": [
    "_la question 14 :_ un graphique de barres empilées présentant la relation entre le sexe et le revenu"
   ]
  },
  {
   "cell_type": "code",
   "execution_count": 44,
   "metadata": {},
   "outputs": [
    {
     "data": {
      "image/png": "[encoded data removed]",
      "text/plain": [
       "<Figure size 432x288 with 1 Axes>"
      ]
     },
     "metadata": {
      "needs_background": "light"
     },
     "output_type": "display_data"
    }
   ],
   "source": [
    "data.groupby(['income','sex']).size().unstack().plot(kind='bar',stacked=True)\n",
    "plt.show()"
   ]
  },
  {
   "cell_type": "markdown",
   "metadata": {},
   "source": [
    "###  Prétraitement du dataset :"
   ]
  },
  {
   "cell_type": "markdown",
   "metadata": {},
   "source": [
    "_la question 1 :_  Sélection d’attributs "
   ]
  },
  {
   "cell_type": "code",
   "execution_count": 45,
   "metadata": {},
   "outputs": [
    {
     "name": "stdout",
     "output_type": "stream",
     "text": [
      "---- age ---\n",
      "36    898\n",
      "31    888\n",
      "34    886\n",
      "23    877\n",
      "35    876\n",
      "     ... \n",
      "83      6\n",
      "88      3\n",
      "85      3\n",
      "86      1\n",
      "87      1\n",
      "Name: age, Length: 73, dtype: int64\n",
      "---- workclass ---\n",
      "Private             22696\n",
      "Self-emp-not-inc     2541\n",
      "Local-gov            2093\n",
      "?                    1836\n",
      "State-gov            1297\n",
      "Self-emp-inc         1116\n",
      "Federal-gov           960\n",
      "Without-pay            14\n",
      "Never-worked            7\n",
      "Name: workclass, dtype: int64\n",
      "---- fnlwgt ---\n",
      "164190    13\n",
      "203488    13\n",
      "123011    13\n",
      "148995    12\n",
      "126675    12\n",
      "          ..\n",
      "325573     1\n",
      "140176     1\n",
      "318264     1\n",
      "329205     1\n",
      "257302     1\n",
      "Name: fnlwgt, Length: 21647, dtype: int64\n",
      "---- education ---\n",
      "HS-grad         10501\n",
      "Some-college     7291\n",
      "Bachelors        5354\n",
      "Masters          1723\n",
      "Assoc-voc        1382\n",
      "11th             1175\n",
      "Assoc-acdm       1067\n",
      "10th              933\n",
      "7th-8th           646\n",
      "Prof-school       576\n",
      "9th               514\n",
      "12th              433\n",
      "Doctorate         413\n",
      "5th-6th           333\n",
      "1st-4th           168\n",
      "Preschool          51\n",
      "Name: education, dtype: int64\n",
      "---- education_num ---\n",
      "9     10501\n",
      "10     7291\n",
      "13     5354\n",
      "14     1723\n",
      "11     1382\n",
      "7      1175\n",
      "12     1067\n",
      "6       933\n",
      "4       646\n",
      "15      576\n",
      "5       514\n",
      "8       433\n",
      "16      413\n",
      "3       333\n",
      "2       168\n",
      "1        51\n",
      "Name: education_num, dtype: int64\n",
      "---- marital-status ---\n",
      "Married-civ-spouse       14976\n",
      "Never-married            10682\n",
      "Divorced                  4443\n",
      "Separated                 1025\n",
      "Widowed                    993\n",
      "Married-spouse-absent      418\n",
      "Married-AF-spouse           23\n",
      "Name: marital-status, dtype: int64\n",
      "---- occupation ---\n",
      "Prof-specialty       4140\n",
      "Craft-repair         4099\n",
      "Exec-managerial      4066\n",
      "Adm-clerical         3769\n",
      "Sales                3650\n",
      "Other-service        3295\n",
      "Machine-op-inspct    2002\n",
      "?                    1843\n",
      "Transport-moving     1597\n",
      "Handlers-cleaners    1370\n",
      "Farming-fishing       994\n",
      "Tech-support          928\n",
      "Protective-serv       649\n",
      "Priv-house-serv       149\n",
      "Armed-Forces            9\n",
      "Name: occupation, dtype: int64\n",
      "---- relationship ---\n",
      "Husband           13193\n",
      "Not-in-family      8304\n",
      "Own-child          5068\n",
      "Unmarried          3446\n",
      "Wife               1568\n",
      "Other-relative      981\n",
      "Name: relationship, dtype: int64\n",
      "---- race ---\n",
      "White                 27815\n",
      "Black                  3124\n",
      "Asian-Pac-Islander     1039\n",
      "Amer-Indian-Eskimo      311\n",
      "Other                   271\n",
      "Name: race, dtype: int64\n",
      "---- sex ---\n",
      "Male      21789\n",
      "Female    10771\n",
      "Name: sex, dtype: int64\n",
      "---- capital_gai ---\n",
      "0        29849\n",
      "15024      347\n",
      "7688       284\n",
      "7298       246\n",
      "99999      159\n",
      "         ...  \n",
      "1111         1\n",
      "2538         1\n",
      "22040        1\n",
      "4931         1\n",
      "5060         1\n",
      "Name: capital_gai, Length: 119, dtype: int64\n",
      "---- capital_loss ---\n",
      "0       31041\n",
      "1902      202\n",
      "1977      168\n",
      "1887      159\n",
      "1848       51\n",
      "        ...  \n",
      "2080        1\n",
      "1539        1\n",
      "1844        1\n",
      "2489        1\n",
      "1411        1\n",
      "Name: capital_loss, Length: 92, dtype: int64\n",
      "---- hours_per_week ---\n",
      "40    15216\n",
      "50     2819\n",
      "45     1824\n",
      "60     1475\n",
      "35     1297\n",
      "      ...  \n",
      "82        1\n",
      "94        1\n",
      "92        1\n",
      "74        1\n",
      "87        1\n",
      "Name: hours_per_week, Length: 94, dtype: int64\n",
      "---- country ---\n",
      "United-States                 29169\n",
      "Mexico                          643\n",
      "?                               583\n",
      "Philippines                     198\n",
      "Germany                         137\n",
      "Canada                          121\n",
      "Puerto-Rico                     114\n",
      "El-Salvador                     106\n",
      "India                           100\n",
      "Cuba                             95\n",
      "England                          90\n",
      "Jamaica                          81\n",
      "South                            80\n",
      "China                            75\n",
      "Italy                            73\n",
      "Dominican-Republic               70\n",
      "Vietnam                          67\n",
      "Guatemala                        64\n",
      "Japan                            62\n",
      "Poland                           60\n",
      "Columbia                         59\n",
      "Taiwan                           51\n",
      "Haiti                            44\n",
      "Iran                             43\n",
      "Portugal                         37\n",
      "Nicaragua                        34\n",
      "Peru                             31\n",
      "France                           29\n",
      "Greece                           29\n",
      "Ecuador                          28\n",
      "Ireland                          24\n",
      "Hong                             20\n",
      "Cambodia                         19\n",
      "Trinadad&Tobago                  19\n",
      "Laos                             18\n",
      "Thailand                         18\n",
      "Yugoslavia                       16\n",
      "Outlying-US(Guam-USVI-etc)       14\n",
      "Honduras                         13\n",
      "Hungary                          13\n",
      "Scotland                         12\n",
      "Holand-Netherlands                1\n",
      "Name: country, dtype: int64\n",
      "---- income ---\n",
      "<=50K    24719\n",
      ">50K      7841\n",
      "Name: income, dtype: int64\n"
     ]
    }
   ],
   "source": [
    "for i in data.columns:\n",
    "    print (\"---- %s ---\" % i)\n",
    "    print (data[i].value_counts())"
   ]
  },
  {
   "cell_type": "markdown",
   "metadata": {},
   "source": [
    "on a exécuté une boucle for sur toutes les colonnes en utilisant la fonction value_counts de la bibliotèque Pandas qui retourne le nombre des valeurs uniques , d'apres ca on selectionne les colonnes qui ont beaucoup de valeurs distinctes comme l'attribut fnlgwt qui a environ 2000+ valeurs. ( les attributs qui ont beaucoup de valeurs distinctes considéré comme attribut noisy , doit etre supprimer )"
   ]
  },
  {
   "cell_type": "code",
   "execution_count": 46,
   "metadata": {},
   "outputs": [
    {
     "name": "stdout",
     "output_type": "stream",
     "text": [
      "<class 'pandas.core.frame.DataFrame'>\n",
      "RangeIndex: 32560 entries, 0 to 32559\n",
      "Data columns (total 8 columns):\n",
      " #   Column          Non-Null Count  Dtype \n",
      "---  ------          --------------  ----- \n",
      " 0   workclass       32560 non-null  object\n",
      " 1   education       32560 non-null  object\n",
      " 2   marital-status  32560 non-null  object\n",
      " 3   occupation      32560 non-null  object\n",
      " 4   relationship    32560 non-null  object\n",
      " 5   race            32560 non-null  object\n",
      " 6   sex             32560 non-null  object\n",
      " 7   income          32560 non-null  object\n",
      "dtypes: object(8)\n",
      "memory usage: 2.0+ MB\n"
     ]
    }
   ],
   "source": [
    "data.drop(['education_num','age', 'hours_per_week', 'fnlwgt', 'capital_gai','capital_loss', 'country'], axis=1, inplace=True)\n",
    "data.info()"
   ]
  },
  {
   "cell_type": "markdown",
   "metadata": {},
   "source": [
    "La fonction Pandas.drop est utilisée pour supprimer des colonnes ou des lignes spécifiées. axis=1 représente que nous avons l'intention de supprimer la colonne elle-même, inplace=True est de mentionner que nous remplaçons la trame de données d'origine."
   ]
  },
  {
   "cell_type": "markdown",
   "metadata": {},
   "source": [
    "_la question 2 :_ Réduction de dimension , trouver la corrélation entre les attributs "
   ]
  },
  {
   "cell_type": "code",
   "execution_count": 47,
   "metadata": {},
   "outputs": [
    {
     "data": {
      "text/html": [
       "<div>\n",
       "<style scoped>\n",
       "    .dataframe tbody tr th:only-of-type {\n",
       "        vertical-align: middle;\n",
       "    }\n",
       "\n",
       "    .dataframe tbody tr th {\n",
       "        vertical-align: top;\n",
       "    }\n",
       "\n",
       "    .dataframe thead th {\n",
       "        text-align: right;\n",
       "    }\n",
       "</style>\n",
       "<table border=\"1\" class=\"dataframe\">\n",
       "  <thead>\n",
       "    <tr style=\"text-align: right;\">\n",
       "      <th></th>\n",
       "    </tr>\n",
       "  </thead>\n",
       "  <tbody>\n",
       "  </tbody>\n",
       "</table>\n",
       "</div>"
      ],
      "text/plain": [
       "Empty DataFrame\n",
       "Columns: []\n",
       "Index: []"
      ]
     },
     "execution_count": 47,
     "metadata": {},
     "output_type": "execute_result"
    }
   ],
   "source": [
    "data.corr()"
   ]
  },
  {
   "cell_type": "markdown",
   "metadata": {},
   "source": [
    "les attribut qui sont une coorrélation qui tend vers le 1 indique que ces deux attributs sont pareille , on peut soit les fusionner ou les éliminer , dans notre cas les attributs sont distinct"
   ]
  },
  {
   "cell_type": "markdown",
   "metadata": {},
   "source": [
    "_la question 3 :_ Données manquantes/erronées "
   ]
  },
  {
   "cell_type": "code",
   "execution_count": 48,
   "metadata": {},
   "outputs": [
    {
     "name": "stdout",
     "output_type": "stream",
     "text": [
      "---- workclass ---\n",
      "Private             22696\n",
      "Self-emp-not-inc     2541\n",
      "Local-gov            2093\n",
      "?                    1836\n",
      "State-gov            1297\n",
      "Self-emp-inc         1116\n",
      "Federal-gov           960\n",
      "Without-pay            14\n",
      "Never-worked            7\n",
      "Name: workclass, dtype: int64\n",
      "---- education ---\n",
      "HS-grad         10501\n",
      "Some-college     7291\n",
      "Bachelors        5354\n",
      "Masters          1723\n",
      "Assoc-voc        1382\n",
      "11th             1175\n",
      "Assoc-acdm       1067\n",
      "10th              933\n",
      "7th-8th           646\n",
      "Prof-school       576\n",
      "9th               514\n",
      "12th              433\n",
      "Doctorate         413\n",
      "5th-6th           333\n",
      "1st-4th           168\n",
      "Preschool          51\n",
      "Name: education, dtype: int64\n",
      "---- marital-status ---\n",
      "Married-civ-spouse       14976\n",
      "Never-married            10682\n",
      "Divorced                  4443\n",
      "Separated                 1025\n",
      "Widowed                    993\n",
      "Married-spouse-absent      418\n",
      "Married-AF-spouse           23\n",
      "Name: marital-status, dtype: int64\n",
      "---- occupation ---\n",
      "Prof-specialty       4140\n",
      "Craft-repair         4099\n",
      "Exec-managerial      4066\n",
      "Adm-clerical         3769\n",
      "Sales                3650\n",
      "Other-service        3295\n",
      "Machine-op-inspct    2002\n",
      "?                    1843\n",
      "Transport-moving     1597\n",
      "Handlers-cleaners    1370\n",
      "Farming-fishing       994\n",
      "Tech-support          928\n",
      "Protective-serv       649\n",
      "Priv-house-serv       149\n",
      "Armed-Forces            9\n",
      "Name: occupation, dtype: int64\n",
      "---- relationship ---\n",
      "Husband           13193\n",
      "Not-in-family      8304\n",
      "Own-child          5068\n",
      "Unmarried          3446\n",
      "Wife               1568\n",
      "Other-relative      981\n",
      "Name: relationship, dtype: int64\n",
      "---- race ---\n",
      "White                 27815\n",
      "Black                  3124\n",
      "Asian-Pac-Islander     1039\n",
      "Amer-Indian-Eskimo      311\n",
      "Other                   271\n",
      "Name: race, dtype: int64\n",
      "---- sex ---\n",
      "Male      21789\n",
      "Female    10771\n",
      "Name: sex, dtype: int64\n",
      "---- income ---\n",
      "<=50K    24719\n",
      ">50K      7841\n",
      "Name: income, dtype: int64\n"
     ]
    }
   ],
   "source": [
    "for i in data.columns:\n",
    "    print (\"---- %s ---\" % i)\n",
    "    print (data[i].value_counts())"
   ]
  },
  {
   "cell_type": "code",
   "execution_count": 49,
   "metadata": {},
   "outputs": [
    {
     "name": "stdout",
     "output_type": "stream",
     "text": [
      "              workclass   education      marital-status         occupation  \\\n",
      "0      Self-emp-not-inc   Bachelors  Married-civ-spouse    Exec-managerial   \n",
      "1               Private     HS-grad            Divorced  Handlers-cleaners   \n",
      "2               Private        11th  Married-civ-spouse  Handlers-cleaners   \n",
      "3               Private   Bachelors  Married-civ-spouse     Prof-specialty   \n",
      "4               Private     Masters  Married-civ-spouse    Exec-managerial   \n",
      "...                 ...         ...                 ...                ...   \n",
      "32555           Private  Assoc-acdm  Married-civ-spouse       Tech-support   \n",
      "32556           Private     HS-grad  Married-civ-spouse  Machine-op-inspct   \n",
      "32557           Private     HS-grad             Widowed       Adm-clerical   \n",
      "32558           Private     HS-grad       Never-married       Adm-clerical   \n",
      "32559      Self-emp-inc     HS-grad  Married-civ-spouse    Exec-managerial   \n",
      "\n",
      "        relationship   race     sex income  \n",
      "0            Husband  White    Male  <=50K  \n",
      "1      Not-in-family  White    Male  <=50K  \n",
      "2            Husband  Black    Male  <=50K  \n",
      "3               Wife  Black  Female  <=50K  \n",
      "4               Wife  White  Female  <=50K  \n",
      "...              ...    ...     ...    ...  \n",
      "32555           Wife  White  Female  <=50K  \n",
      "32556        Husband  White    Male   >50K  \n",
      "32557      Unmarried  White  Female  <=50K  \n",
      "32558      Own-child  White    Male  <=50K  \n",
      "32559           Wife  White  Female   >50K  \n",
      "\n",
      "[32560 rows x 8 columns]\n",
      "les index des lignes irone pour l'attribut income :  Empty DataFrame\n",
      "Columns: [workclass, education, marital-status, occupation, relationship, race, sex, income]\n",
      "Index: []\n",
      "les index des lignes irone pour l'attribut race :  Empty DataFrame\n",
      "Columns: [workclass, education, marital-status, occupation, relationship, race, sex, income]\n",
      "Index: []\n",
      "les index des lignes irone pour l'attribut sex :  Empty DataFrame\n",
      "Columns: [workclass, education, marital-status, occupation, relationship, race, sex, income]\n",
      "Index: []\n",
      "les index des lignes irone pour l'attribut marital-status :  Empty DataFrame\n",
      "Columns: [workclass, education, marital-status, occupation, relationship, race, sex, income]\n",
      "Index: []\n",
      "les index des lignes irone pour l'attribut workclass :        workclass     education         marital-status occupation  \\\n",
      "26            ?  Some-college     Married-civ-spouse          ?   \n",
      "60            ?       7th-8th  Married-spouse-absent          ?   \n",
      "68            ?  Some-college          Never-married          ?   \n",
      "76            ?          10th     Married-civ-spouse          ?   \n",
      "105           ?          10th          Never-married          ?   \n",
      "...         ...           ...                    ...        ...   \n",
      "32529         ?     Bachelors     Married-civ-spouse          ?   \n",
      "32530         ?     Bachelors          Never-married          ?   \n",
      "32538         ?     Doctorate     Married-civ-spouse          ?   \n",
      "32540         ?       HS-grad              Separated          ?   \n",
      "32541         ?       HS-grad     Married-civ-spouse          ?   \n",
      "\n",
      "        relationship                race     sex income  \n",
      "26           Husband  Asian-Pac-Islander    Male   >50K  \n",
      "60     Not-in-family               White    Male  <=50K  \n",
      "68         Own-child               White    Male  <=50K  \n",
      "76           Husband               White    Male  <=50K  \n",
      "105        Own-child               White  Female  <=50K  \n",
      "...              ...                 ...     ...    ...  \n",
      "32529           Wife               White  Female   >50K  \n",
      "32530  Not-in-family  Asian-Pac-Islander  Female  <=50K  \n",
      "32538        Husband               White    Male   >50K  \n",
      "32540  Not-in-family               Black  Female  <=50K  \n",
      "32541        Husband               White    Male  <=50K  \n",
      "\n",
      "[1843 rows x 8 columns]\n",
      "les index des lignes irone pour l'attribut education :  Empty DataFrame\n",
      "Columns: [workclass, education, marital-status, occupation, relationship, race, sex, income]\n",
      "Index: []\n",
      "les index des lignes irone pour l'attribut occupation :        workclass     education         marital-status occupation  \\\n",
      "26            ?  Some-college     Married-civ-spouse          ?   \n",
      "60            ?       7th-8th  Married-spouse-absent          ?   \n",
      "68            ?  Some-college          Never-married          ?   \n",
      "76            ?          10th     Married-civ-spouse          ?   \n",
      "105           ?          10th          Never-married          ?   \n",
      "...         ...           ...                    ...        ...   \n",
      "32529         ?     Bachelors     Married-civ-spouse          ?   \n",
      "32530         ?     Bachelors          Never-married          ?   \n",
      "32538         ?     Doctorate     Married-civ-spouse          ?   \n",
      "32540         ?       HS-grad              Separated          ?   \n",
      "32541         ?       HS-grad     Married-civ-spouse          ?   \n",
      "\n",
      "        relationship                race     sex income  \n",
      "26           Husband  Asian-Pac-Islander    Male   >50K  \n",
      "60     Not-in-family               White    Male  <=50K  \n",
      "68         Own-child               White    Male  <=50K  \n",
      "76           Husband               White    Male  <=50K  \n",
      "105        Own-child               White  Female  <=50K  \n",
      "...              ...                 ...     ...    ...  \n",
      "32529           Wife               White  Female   >50K  \n",
      "32530  Not-in-family  Asian-Pac-Islander  Female  <=50K  \n",
      "32538        Husband               White    Male   >50K  \n",
      "32540  Not-in-family               Black  Female  <=50K  \n",
      "32541        Husband               White    Male  <=50K  \n",
      "\n",
      "[1843 rows x 8 columns]\n",
      "les index des lignes irone pour l'attribut marital-status :  Empty DataFrame\n",
      "Columns: [workclass, education, marital-status, occupation, relationship, race, sex, income]\n",
      "Index: []\n"
     ]
    }
   ],
   "source": [
    "print(data)\n",
    "#income\n",
    "index_income=data.loc[(data['income']!=('<=50K'))&(data['income']!=('>50K'))]\n",
    "print(\"les index des lignes irone pour l'attribut income : \" ,index_income)\n",
    "#race\n",
    "index_race=data.loc[(data['race']!=('Black'))&(data['race']!=('Asian-Pac-Islander'))&(data['race']!=('Other'))&(data['race']!=('White'))&(data['race']!=('Amer-Indian-Eskimo'))]\n",
    "print(\"les index des lignes irone pour l'attribut race : \" ,index_race)\n",
    "#sex\n",
    "index_sex=data.loc[(data['sex']!=('Male'))&(data['sex']!=('Female'))]\n",
    "print(\"les index des lignes irone pour l'attribut sex : \" ,index_sex)\n",
    "#marital-status\n",
    "index_marital=data.loc[(data['marital-status']!=('Married-spouse-absent'))&(data['marital-status']!=('Widowed'))&(data['marital-status']!=('Married-civ-spouse'))&(data['marital-status']!=('Divorced'))&(data['marital-status']!=('Never-married'))&(data['marital-status']!=('Married-AF-spouse'))&(data['marital-status']!=('Separated'))]\n",
    "print(\"les index des lignes irone pour l'attribut marital-status : \" ,index_marital)\n",
    "\n",
    "#workclass\n",
    "index_workclass=data.loc[(data['workclass']!=('Self-emp-inc'))&(data['workclass']!=('State-gov'))&(data['workclass']!=('Federal-gov'))&(data['workclass']!=('Without-pay'))&(data['workclass']!=('Local-gov'))&(data['workclass']!=('Private'))&(data['workclass']!=('Self-emp-not-inc'))]\n",
    "print(\"les index des lignes irone pour l'attribut workclass : \" ,index_workclass)\n",
    "\n",
    "\n",
    "#education\n",
    "index_education=data.loc[(data['education']!=('Some-college'))&(data['education']!=('Preschool'))&(data['education']!=('5th-6th'))&(data['education']!=('HS-grad'))&(data['education']!=('Masters'))&(data['education']!=('12th'))&(data['education']!=('7th-8th'))&(data['education']!=('Prof-school'))&(data['education']!=('1st-4th'))&(data['education']!=('Assoc-acdm'))&(data['education']!=('Doctorate'))&(data['education']!=('11th'))&(data['education']!=('Bachelors'))&(data['education']!=('10th'))&(data['education']!=('Assoc-voc'))&(data['education']!=('9th'))]\n",
    "print(\"les index des lignes irone pour l'attribut education : \" ,index_education)\n",
    "\n",
    "\n",
    "#occupation\n",
    "index_occupation=data.loc[(data['occupation']!=('Farming-fishing'))&(data['occupation']!=('Tech-support'))&(data['occupation']!=('Adm-clerical'))&(data['occupation']!=('Handlers-cleaners'))&(data['occupation']!=('Prof-specialty'))&(data['occupation']!=('Machine-op-inspct'))&(data['occupation']!=('Exec-managerial'))&(data['occupation']!=('Priv-house-serv'))&(data['occupation']!=('Craft-repair'))&(data['occupation']!=('Sales'))&(data['occupation']!=('Transport-moving'))&(data['occupation']!=('Armed-Forces'))&(data['occupation']!=('Other-service'))&(data['occupation']!=('Protective-serv'))]\n",
    "print(\"les index des lignes irone pour l'attribut occupation : \" ,index_occupation) \n",
    "\n",
    "#relationship\n",
    "index_relationship=data.loc[(data['relationship']!=('Not-in-family'))&(data['relationship']!=('Wife'))&(data['relationship']!=('Other-relative'))&(data['relationship']!=('Unmarried'))&(data['relationship']!=('Husband'))&(data['relationship']!=('Own-child'))]\n",
    "print(\"les index des lignes irone pour l'attribut marital-status : \" ,index_relationship)\n",
    "\n",
    "\n"
   ]
  },
  {
   "cell_type": "markdown",
   "metadata": {},
   "source": [
    "les attributs worclass et occupation contients des valeurs manquantes/erronées , on doit garde seulement les data juste . "
   ]
  },
  {
   "cell_type": "code",
   "execution_count": 50,
   "metadata": {},
   "outputs": [
    {
     "name": "stdout",
     "output_type": "stream",
     "text": [
      "              workclass   education      marital-status         occupation  \\\n",
      "0      Self-emp-not-inc   Bachelors  Married-civ-spouse    Exec-managerial   \n",
      "1               Private     HS-grad            Divorced  Handlers-cleaners   \n",
      "2               Private        11th  Married-civ-spouse  Handlers-cleaners   \n",
      "3               Private   Bachelors  Married-civ-spouse     Prof-specialty   \n",
      "4               Private     Masters  Married-civ-spouse    Exec-managerial   \n",
      "...                 ...         ...                 ...                ...   \n",
      "32555           Private  Assoc-acdm  Married-civ-spouse       Tech-support   \n",
      "32556           Private     HS-grad  Married-civ-spouse  Machine-op-inspct   \n",
      "32557           Private     HS-grad             Widowed       Adm-clerical   \n",
      "32558           Private     HS-grad       Never-married       Adm-clerical   \n",
      "32559      Self-emp-inc     HS-grad  Married-civ-spouse    Exec-managerial   \n",
      "\n",
      "        relationship   race     sex income  \n",
      "0            Husband  White    Male  <=50K  \n",
      "1      Not-in-family  White    Male  <=50K  \n",
      "2            Husband  Black    Male  <=50K  \n",
      "3               Wife  Black  Female  <=50K  \n",
      "4               Wife  White  Female  <=50K  \n",
      "...              ...    ...     ...    ...  \n",
      "32555           Wife  White  Female  <=50K  \n",
      "32556        Husband  White    Male   >50K  \n",
      "32557      Unmarried  White  Female  <=50K  \n",
      "32558      Own-child  White    Male  <=50K  \n",
      "32559           Wife  White  Female   >50K  \n",
      "\n",
      "[21371 rows x 8 columns]\n"
     ]
    }
   ],
   "source": [
    "\n",
    "#workclass\n",
    "data=data.loc[(data['workclass']==('Self-emp-inc'))|(data['workclass']==('State-gov'))|(data['workclass']==('Federal-gov'))|(data['workclass']==('Without-pay'))|(data['workclass']==('Local-gov'))|(data['workclass']==('Private'))|(data['workclass']==('Self-emp-not-inc'))]\n",
    " \n",
    "#occupation\n",
    "data=data.loc[(data['occupation']==('Farming-fishing'))|(data['occupation']==('Tech-support'))|(data['occupation']==('Adm-clerical'))|(data['occupation']==('Handlers-cleaners'))|(data['occupation']==('Prof-specialty'))|(data['occupation']==('Machine-op-inspct'))|(data['occupation']==('Exec-managerial'))|(data['occupation']==('Priv-house-serv'))|(data['occupation']==('Craft-repair'))&(data['occupation']==('Sales'))&(data['occupation']==('Transport-moving'))|(data['occupation']==('Armed-Forces'))|(data['occupation']==('Other-service'))|(data['occupation']==('Protective-serv'))]\n",
    "\n",
    "print(data)\n"
   ]
  },
  {
   "cell_type": "markdown",
   "metadata": {},
   "source": [
    "_la question 4 :_ Transformation des données : convertir les valeurs (attributs) nominales en valeurs numériques utulisant la bibliotèque Pandas "
   ]
  },
  {
   "cell_type": "code",
   "execution_count": 51,
   "metadata": {},
   "outputs": [
    {
     "name": "stdout",
     "output_type": "stream",
     "text": [
      "       workclass  education  marital-status  occupation  relationship  race  \\\n",
      "0              6         12               2           7             4     3   \n",
      "1              5          3               4           4             0     3   \n",
      "2              5         11               2           4             4     0   \n",
      "3              5         12               2           5             1     0   \n",
      "4              5          4               2           7             1     3   \n",
      "...          ...        ...             ...         ...           ...   ...   \n",
      "32555          5          9               2           2             1     3   \n",
      "32556          5          3               2           6             4     3   \n",
      "32557          5          3               1           3             3     3   \n",
      "32558          5          3               5           3             5     3   \n",
      "32559          0          3               2           7             1     3   \n",
      "\n",
      "       sex  income  \n",
      "0        0       0  \n",
      "1        0       0  \n",
      "2        0       0  \n",
      "3        1       0  \n",
      "4        1       0  \n",
      "...    ...     ...  \n",
      "32555    1       0  \n",
      "32556    0       1  \n",
      "32557    1       0  \n",
      "32558    0       0  \n",
      "32559    1       1  \n",
      "\n",
      "[21371 rows x 8 columns]\n"
     ]
    }
   ],
   "source": [
    "data['income'] = data['income'].map({'<=50K': 0, '>50K': 1}).astype(int)\n",
    "data['sex'] = data['sex'].map({'Male': 0, 'Female': 1}).astype(int)\n",
    "data['race'] = data['race'].map({'Black': 0, 'Asian-Pac-Islander': 1,'Other': 2, 'White': 3, 'Amer-Indian-Eskimo': 4})\n",
    "data['marital-status'] = data['marital-status'].map({'Married-spouse-absent': 0, 'Widowed': 1, 'Married-civ-spouse': 2, 'Separated': 3, 'Divorced': 4,'Never-married': 5, 'Married-AF-spouse': 6}) \n",
    "data['workclass'] = data['workclass'].map({'Self-emp-inc': 0, 'State-gov': 1,'Federal-gov': 2, 'Without-pay': 3, 'Local-gov': 4,'Private': 5, 'Self-emp-not-inc': 6})\n",
    "data['education'] = data['education'].map({'Some-college': 0, 'Preschool': 1, '5th-6th': 2, 'HS-grad': 3, 'Masters': 4, '12th': 5, '7th-8th': 6, 'Prof-school': 7,'1st-4th': 8, 'Assoc-acdm': 9, 'Doctorate': 10, '11th': 11,'Bachelors': 12, '10th': 13,'Assoc-voc': 14,'9th': 15}) \n",
    "data['occupation'] = data['occupation'].map({ 'Farming-fishing': 1, 'Tech-support': 2, 'Adm-clerical': 3, 'Handlers-cleaners': 4, 'Prof-specialty': 5,'Machine-op-inspct': 6, 'Exec-managerial': 7,'Priv-house-serv': 8,'Craft-repair': 9,'Sales': 10, 'Transport-moving': 11, 'Armed-Forces': 12, 'Other-service': 13,'Protective-serv': 14 }) \n",
    "data['relationship'] = data['relationship'].map({'Not-in-family': 0, 'Wife': 1, 'Other-relative': 2, 'Unmarried': 3,'Husband': 4,'Own-child': 5}) \n",
    "\n",
    "print(data)"
   ]
  },
  {
   "cell_type": "markdown",
   "metadata": {},
   "source": [
    "_la question 4 :_ Normalisation/Standardisation des données"
   ]
  },
  {
   "cell_type": "code",
   "execution_count": 52,
   "metadata": {},
   "outputs": [
    {
     "data": {
      "text/plain": [
       "0        0\n",
       "1        0\n",
       "2        0\n",
       "3        0\n",
       "4        0\n",
       "        ..\n",
       "32555    0\n",
       "32556    0\n",
       "32557    0\n",
       "32558    0\n",
       "32559    0\n",
       "Name: marital-status, Length: 21371, dtype: int32"
      ]
     },
     "execution_count": 52,
     "metadata": {},
     "output_type": "execute_result"
    }
   ],
   "source": [
    "data['workclass'] = data['workclass']/data['workclass'].max()\n",
    "data['workclass'].astype(int)\n",
    "data['race'] = data['race']/data['race'].max()\n",
    "data['race'].astype(int)\n",
    "data['relationship'] = data['relationship']/data['relationship'].max()\n",
    "data['relationship'].astype(int)\n",
    "data['occupation'] = data['occupation']/data['occupation'].max()\n",
    "data['occupation'].astype(int)\n",
    "data['education'] = data['education']/data['education'].max()\n",
    "data['education'].astype(int)\n",
    "data['marital-status'] = data['marital-status']/data['marital-status'].max() \n",
    "data['marital-status'].astype(int)\n",
    " \n"
   ]
  },
  {
   "cell_type": "code",
   "execution_count": 53,
   "metadata": {},
   "outputs": [
    {
     "name": "stdout",
     "output_type": "stream",
     "text": [
      "<class 'pandas.core.frame.DataFrame'>\n",
      "Int64Index: 21371 entries, 0 to 32559\n",
      "Data columns (total 8 columns):\n",
      " #   Column          Non-Null Count  Dtype  \n",
      "---  ------          --------------  -----  \n",
      " 0   workclass       21371 non-null  float64\n",
      " 1   education       21371 non-null  float64\n",
      " 2   marital-status  21371 non-null  float64\n",
      " 3   occupation      21371 non-null  float64\n",
      " 4   relationship    21371 non-null  float64\n",
      " 5   race            21371 non-null  float64\n",
      " 6   sex             21371 non-null  int32  \n",
      " 7   income          21371 non-null  int32  \n",
      "dtypes: float64(6), int32(2)\n",
      "memory usage: 1.3 MB\n"
     ]
    }
   ],
   "source": [
    "data.info()"
   ]
  },
  {
   "cell_type": "markdown",
   "metadata": {},
   "source": [
    "la formule de normalisation :  \n",
    "\n",
    "<p align=\"center\" width=\"100%\">\n",
    "    <img src=\"https://miro.medium.com/max/470/1*renoW28YuTJ7VxU8TfAM6A.png\"> \n",
    "</p>"
   ]
  },
  {
   "cell_type": "markdown",
   "metadata": {},
   "source": [
    "_la question 6 :_ Séparation des données"
   ]
  },
  {
   "cell_type": "code",
   "execution_count": 54,
   "metadata": {},
   "outputs": [],
   "source": [
    "r = 0.7\n",
    "\n",
    "data_x = pd.DataFrame(np.c_[data['relationship'], data['education'], data['race'],data['occupation'],data['sex'],data['marital-status'],data['workclass']], columns = ['relationship','education','race','occupation','gender','marital','workclass'])\n",
    "data_y = pd.DataFrame(data.income)\n",
    "\n",
    "data_train_x = data_x[1 : ((int) (len(data_x)*r))] \n",
    "data_test_x = data_x[((int) (len(data_x)*r)) : len(data_x)]\n",
    "\n",
    "data_train_y = data_y[1 : ((int) (len(data_y)*r))] \n",
    "data_test_y = data_y[((int) (len(data_y)*r)) : len(data_y)]\n"
   ]
  },
  {
   "cell_type": "markdown",
   "metadata": {},
   "source": [
    "### Prédiction et classification  \n"
   ]
  },
  {
   "cell_type": "markdown",
   "metadata": {},
   "source": [
    "#### Régression logistique\n",
    "\n",
    "La régression logistique est l'un des algorithmes d'apprentissage automatique supervisé les plus simples et les plus couramment utilisés pour la classification catégorielle. Les concepts fondamentaux de base de la régression logistique sont faciles à comprendre et peuvent être utilisés comme algorithme de base pour tout problème de classification binaire (0 ou 1), pour nous( <50 , =>50)"
   ]
  },
  {
   "cell_type": "markdown",
   "metadata": {},
   "source": [
    "Créer un classifieur à base de l’algorithme Régression logistique"
   ]
  },
  {
   "cell_type": "code",
   "execution_count": 55,
   "metadata": {},
   "outputs": [],
   "source": [
    "from sklearn.linear_model import LogisticRegression\n",
    "clf1 = LogisticRegression()"
   ]
  },
  {
   "cell_type": "markdown",
   "metadata": {},
   "source": [
    "Appliquer le classifieur sur l’ensemble de données"
   ]
  },
  {
   "cell_type": "code",
   "execution_count": null,
   "metadata": {},
   "outputs": [],
   "source": [
    "clf1.fit(data_train_x, data_train_y)"
   ]
  },
  {
   "cell_type": "markdown",
   "metadata": {},
   "source": [
    "appliquer le classifieur résultant sur les data test"
   ]
  },
  {
   "cell_type": "code",
   "execution_count": 57,
   "metadata": {},
   "outputs": [],
   "source": [
    "predY = clf1.predict(data_test_x)\n",
    "summary = pd.concat([pd.DataFrame(data_test_y), pd.Series(predY, name = 'income')], axis=1)"
   ]
  },
  {
   "cell_type": "markdown",
   "metadata": {},
   "source": [
    "calculer la Précision"
   ]
  },
  {
   "cell_type": "code",
   "execution_count": 58,
   "metadata": {},
   "outputs": [
    {
     "name": "stdout",
     "output_type": "stream",
     "text": [
      "Précision = 0.76\n"
     ]
    }
   ],
   "source": [
    "from sklearn.metrics import accuracy_score\n",
    "print('Précision = %.2f' % (accuracy_score(data_test_y, predY)))"
   ]
  },
  {
   "cell_type": "markdown",
   "metadata": {},
   "source": [
    "la matrice de confusion"
   ]
  },
  {
   "cell_type": "code",
   "execution_count": 59,
   "metadata": {},
   "outputs": [
    {
     "name": "stdout",
     "output_type": "stream",
     "text": [
      "[[4303  447]\n",
      " [1083  579]]\n"
     ]
    }
   ],
   "source": [
    "from sklearn.metrics import confusion_matrix\n",
    "print(confusion_matrix(data_test_y, predY))"
   ]
  },
  {
   "cell_type": "markdown",
   "metadata": {},
   "source": [
    "on peut aussi utulise les data train pour le test : "
   ]
  },
  {
   "cell_type": "code",
   "execution_count": 60,
   "metadata": {},
   "outputs": [
    {
     "name": "stdout",
     "output_type": "stream",
     "text": [
      "Précision (data train)= 0.77\n",
      "[[10176  1026]\n",
      " [ 2439  1317]]\n"
     ]
    }
   ],
   "source": [
    "predY_train = clf1.predict(data_train_x)\n",
    "summary = pd.concat([pd.DataFrame(data_train_y), pd.Series(predY_train, name = 'income')], axis=1)\n",
    "print('Précision (data train)= %.2f' % (accuracy_score(data_train_y, predY_train)))\n",
    "print(confusion_matrix(data_train_y, predY_train))"
   ]
  },
  {
   "cell_type": "markdown",
   "metadata": {},
   "source": [
    "#### Naïve Bayes  \n",
    "\n",
    "\n",
    "Naive Bayes est un algorithme de classification pour les problèmes de classification binaire (à deux classes) et multiclasses. On l'appelle Bayes naïf ou Bayes idiot parce que les calculs des probabilités pour chaque classe sont simplifiés pour rendre leurs calculs traitables."
   ]
  },
  {
   "cell_type": "markdown",
   "metadata": {},
   "source": [
    "Créer un classifieur à base de l’algorithme Naïve Bayes."
   ]
  },
  {
   "cell_type": "code",
   "execution_count": 61,
   "metadata": {},
   "outputs": [],
   "source": [
    "from sklearn import naive_bayes\n",
    "clf2 = naive_bayes.GaussianNB()\n"
   ]
  },
  {
   "cell_type": "markdown",
   "metadata": {},
   "source": [
    "Appliquer le classifieur sur l’ensemble de données"
   ]
  },
  {
   "cell_type": "code",
   "execution_count": null,
   "metadata": {},
   "outputs": [],
   "source": [
    "clf2 = clf2.fit(data_train_x, data_train_y)"
   ]
  },
  {
   "cell_type": "markdown",
   "metadata": {},
   "source": [
    "appliquer le classifieur résultant sur les data test"
   ]
  },
  {
   "cell_type": "code",
   "execution_count": 63,
   "metadata": {},
   "outputs": [],
   "source": [
    "predY = clf2.predict(data_test_x)\n",
    "summary = pd.concat([pd.DataFrame(data_test_y), pd.Series(predY, name = 'income')], axis=1)"
   ]
  },
  {
   "cell_type": "markdown",
   "metadata": {},
   "source": [
    "calculer la Précision"
   ]
  },
  {
   "cell_type": "code",
   "execution_count": 64,
   "metadata": {},
   "outputs": [
    {
     "name": "stdout",
     "output_type": "stream",
     "text": [
      "Précision = 0.76\n"
     ]
    }
   ],
   "source": [
    "from sklearn.metrics import accuracy_score\n",
    "print('Précision = %.2f' % (accuracy_score(data_test_y, predY)))\n"
   ]
  },
  {
   "cell_type": "markdown",
   "metadata": {},
   "source": [
    "la matrice de confusion"
   ]
  },
  {
   "cell_type": "code",
   "execution_count": 65,
   "metadata": {},
   "outputs": [
    {
     "name": "stdout",
     "output_type": "stream",
     "text": [
      "[[3784  966]\n",
      " [ 541 1121]]\n"
     ]
    }
   ],
   "source": [
    "print(confusion_matrix(data_test_y, predY))"
   ]
  },
  {
   "cell_type": "markdown",
   "metadata": {},
   "source": [
    "on peut aussi utulise les data train pour le test : "
   ]
  },
  {
   "cell_type": "code",
   "execution_count": 66,
   "metadata": {},
   "outputs": [
    {
     "name": "stdout",
     "output_type": "stream",
     "text": [
      "Précision (data train)= 0.76\n",
      "[[8902 2300]\n",
      " [1281 2475]]\n"
     ]
    }
   ],
   "source": [
    "predY_train = clf2.predict(data_train_x)\n",
    "summary = pd.concat([pd.DataFrame(data_train_y), pd.Series(predY_train, name = 'income')], axis=1)\n",
    "print('Précision (data train)= %.2f' % (accuracy_score(data_train_y, predY_train)))\n",
    "print(confusion_matrix(data_train_y, predY_train))"
   ]
  },
  {
   "cell_type": "markdown",
   "metadata": {},
   "source": [
    "#### Arbres de décision    \n",
    "\n",
    "L’algorithme d’arbre de décision appartient à la catégorie des algorithmes d’apprentissage supervisé. Cela fonctionne à la fois pour les variables de sortie continues et catégorielles."
   ]
  },
  {
   "cell_type": "markdown",
   "metadata": {},
   "source": [
    "Créer un classifieur à base de l’algorithme Arbres de décision"
   ]
  },
  {
   "cell_type": "code",
   "execution_count": 67,
   "metadata": {},
   "outputs": [],
   "source": [
    "from sklearn import tree\n",
    "clf3 = tree.DecisionTreeClassifier(criterion = 'entropy', max_depth=3) "
   ]
  },
  {
   "cell_type": "markdown",
   "metadata": {},
   "source": [
    "Appliquer le classifieur sur l’ensemble de données"
   ]
  },
  {
   "cell_type": "code",
   "execution_count": 68,
   "metadata": {},
   "outputs": [],
   "source": [
    "clf3 = clf3.fit(data_train_x, data_train_y)"
   ]
  },
  {
   "cell_type": "markdown",
   "metadata": {},
   "source": [
    "Afficher l’arbre résultant sous forme textuelle"
   ]
  },
  {
   "cell_type": "code",
   "execution_count": 69,
   "metadata": {},
   "outputs": [
    {
     "name": "stdout",
     "output_type": "stream",
     "text": [
      "|--- feature_5 <= 0.42\n",
      "|   |--- feature_5 <= 0.25\n",
      "|   |   |--- feature_4 <= 0.50\n",
      "|   |   |   |--- class: 0\n",
      "|   |   |--- feature_4 >  0.50\n",
      "|   |   |   |--- class: 0\n",
      "|   |--- feature_5 >  0.25\n",
      "|   |   |--- feature_1 <= 0.23\n",
      "|   |   |   |--- class: 0\n",
      "|   |   |--- feature_1 >  0.23\n",
      "|   |   |   |--- class: 1\n",
      "|--- feature_5 >  0.42\n",
      "|   |--- feature_1 <= 0.23\n",
      "|   |   |--- feature_0 <= 0.70\n",
      "|   |   |   |--- class: 0\n",
      "|   |   |--- feature_0 >  0.70\n",
      "|   |   |   |--- class: 0\n",
      "|   |--- feature_1 >  0.23\n",
      "|   |   |--- feature_0 <= 0.80\n",
      "|   |   |   |--- class: 0\n",
      "|   |   |--- feature_0 >  0.80\n",
      "|   |   |   |--- class: 0\n",
      "\n"
     ]
    }
   ],
   "source": [
    "txt_tree = tree.export_text(clf3)\n",
    "print(txt_tree)\n"
   ]
  },
  {
   "cell_type": "markdown",
   "metadata": {},
   "source": [
    "Enregistrer l’arbre résultant dans un fichier"
   ]
  },
  {
   "cell_type": "code",
   "execution_count": 70,
   "metadata": {},
   "outputs": [],
   "source": [
    "with open(\"tree.log\", \"w\") as fout:\n",
    "    fout.write(txt_tree)"
   ]
  },
  {
   "cell_type": "markdown",
   "metadata": {},
   "source": [
    "Produire une représentation graphique de l’arbre résultant"
   ]
  },
  {
   "cell_type": "code",
   "execution_count": 71,
   "metadata": {},
   "outputs": [
    {
     "data": {
      "image/png": "[encoded data removed]",
      "text/plain": [
       "<Figure size 864x720 with 1 Axes>"
      ]
     },
     "metadata": {
      "needs_background": "light"
     },
     "output_type": "display_data"
    }
   ],
   "source": [
    "figure = plt.figure(figsize = (12,10))\n",
    "reslt = tree.plot_tree(clf3 )\n",
    "plt.show()\n"
   ]
  },
  {
   "cell_type": "markdown",
   "metadata": {},
   "source": [
    "appliquer le classifieur résultant sur les data test"
   ]
  },
  {
   "cell_type": "code",
   "execution_count": 72,
   "metadata": {},
   "outputs": [],
   "source": [
    "predY = clf3.predict(data_test_x) \n",
    "summary = pd.concat([pd.DataFrame(data_test_y), pd.Series(predY, name = 'income')], axis=1)"
   ]
  },
  {
   "cell_type": "markdown",
   "metadata": {},
   "source": [
    "calculer la Précision"
   ]
  },
  {
   "cell_type": "code",
   "execution_count": 73,
   "metadata": {},
   "outputs": [
    {
     "name": "stdout",
     "output_type": "stream",
     "text": [
      "Précision = 0.80\n"
     ]
    }
   ],
   "source": [
    "print('Précision = %.2f' % (accuracy_score(data_test_y, predY)))"
   ]
  },
  {
   "cell_type": "markdown",
   "metadata": {},
   "source": [
    "la matrice de confusion"
   ]
  },
  {
   "cell_type": "code",
   "execution_count": 74,
   "metadata": {},
   "outputs": [
    {
     "name": "stdout",
     "output_type": "stream",
     "text": [
      "[[4174  576]\n",
      " [ 699  963]]\n"
     ]
    }
   ],
   "source": [
    "print(confusion_matrix(data_test_y, predY))"
   ]
  },
  {
   "cell_type": "markdown",
   "metadata": {},
   "source": [
    "on peut aussi utulise les data train pour le test : "
   ]
  },
  {
   "cell_type": "code",
   "execution_count": 75,
   "metadata": {},
   "outputs": [
    {
     "name": "stdout",
     "output_type": "stream",
     "text": [
      "Précision (data train)= 0.80\n",
      "[[9859 1343]\n",
      " [1651 2105]]\n"
     ]
    }
   ],
   "source": [
    "predY_train = clf3.predict(data_train_x)\n",
    "summary = pd.concat([pd.DataFrame(data_train_y), pd.Series(predY_train, name = 'income')], axis=1)\n",
    "print('Précision (data train)= %.2f' % (accuracy_score(data_train_y, predY_train)))\n",
    "print(confusion_matrix(data_train_y, predY_train))"
   ]
  },
  {
   "cell_type": "markdown",
   "metadata": {},
   "source": [
    "#### K plus proches voisin  \n",
    "  \n",
    "  L’algorithme des k plus proches voisins est un algorithme d’apprentissage supervisé ,il sera possible de classer (déterminer le label) d’une nouvelle donnée ,par calcule les distances entre ces donnée"
   ]
  },
  {
   "cell_type": "markdown",
   "metadata": {},
   "source": [
    "Créer un classifieur à base de l’algorithme Nearest Neighbors(K plus proches voisin)"
   ]
  },
  {
   "cell_type": "code",
   "execution_count": 76,
   "metadata": {},
   "outputs": [],
   "source": [
    "from sklearn import neighbors\n",
    "clf4 = neighbors. KNeighborsClassifier(n_neighbors=3,\n",
    "metric='minkowski', p=2)"
   ]
  },
  {
   "cell_type": "markdown",
   "metadata": {},
   "source": [
    "Appliquer le classifieur sur l’ensemble de données"
   ]
  },
  {
   "cell_type": "code",
   "execution_count": null,
   "metadata": {},
   "outputs": [],
   "source": [
    "clf4 = clf4.fit(data_train_x, data_train_y)"
   ]
  },
  {
   "cell_type": "markdown",
   "metadata": {},
   "source": [
    "appliquer le classifieur résultant sur les data test"
   ]
  },
  {
   "cell_type": "code",
   "execution_count": 78,
   "metadata": {},
   "outputs": [],
   "source": [
    "predY = clf4.predict(data_test_x) \n",
    "summary = pd.concat([pd.DataFrame(data_test_y), pd.Series(predY, name = 'income')], axis=1)"
   ]
  },
  {
   "cell_type": "markdown",
   "metadata": {},
   "source": [
    "calculer la Précision"
   ]
  },
  {
   "cell_type": "code",
   "execution_count": 79,
   "metadata": {},
   "outputs": [
    {
     "name": "stdout",
     "output_type": "stream",
     "text": [
      "Précision = 0.82\n"
     ]
    }
   ],
   "source": [
    "print('Précision = %.2f' % (accuracy_score(data_test_y, predY)))"
   ]
  },
  {
   "cell_type": "markdown",
   "metadata": {},
   "source": [
    "la matrice de confusion"
   ]
  },
  {
   "cell_type": "code",
   "execution_count": 80,
   "metadata": {},
   "outputs": [
    {
     "name": "stdout",
     "output_type": "stream",
     "text": [
      "[[4275  475]\n",
      " [ 682  980]]\n"
     ]
    }
   ],
   "source": [
    "print(confusion_matrix(data_test_y, predY))"
   ]
  },
  {
   "cell_type": "markdown",
   "metadata": {},
   "source": [
    "on peut aussi utulise les data train pour le test : "
   ]
  },
  {
   "cell_type": "code",
   "execution_count": 81,
   "metadata": {},
   "outputs": [
    {
     "name": "stdout",
     "output_type": "stream",
     "text": [
      "Précision (data train)= 0.84\n",
      "[[10263   939]\n",
      " [ 1449  2307]]\n"
     ]
    }
   ],
   "source": [
    "predY_train = clf4.predict(data_train_x)\n",
    "summary = pd.concat([pd.DataFrame(data_train_y), pd.Series(predY_train, name = 'income')], axis=1)\n",
    "print('Précision (data train)= %.2f' % (accuracy_score(data_train_y, predY_train)))\n",
    "print(confusion_matrix(data_train_y, predY_train))"
   ]
  },
  {
   "cell_type": "markdown",
   "metadata": {},
   "source": [
    "faut mieux expérimenter le classifieur sur différents valeurs de k ( 1, 5, 10, 15, 20...) pour avoir la meuilleure valeure."
   ]
  },
  {
   "cell_type": "code",
   "execution_count": null,
   "metadata": {},
   "outputs": [],
   "source": [
    "#tableau des valeur\n",
    "nbrNeighbors = [1, 5, 10, 15, 20]\n",
    "\n",
    "# tableau pour garder les accurancy finale\n",
    "trainAcc = []\n",
    "testAcc = []\n",
    "\n",
    "# on boucle l'algorithme pour les différents valeurs\n",
    "for k in nbrNeighbors:\n",
    "\n",
    "    #Créer un classifieur à base de l’algorithme Nearest Neighbors\n",
    "    clf5 = neighbors.KNeighborsClassifier(n_neighbors=k)\n",
    "    \n",
    "    #Appliquer le classifieur sur l’ensemble de données\n",
    "    clf5.fit(data_train_x, data_train_y)\n",
    "    \n",
    "    #appliquer le classifieur résultant sur les data test/train ( on teste aussi sure les meme data utilise pour train)\n",
    "    predTrainY = clf5.predict(data_train_x)\n",
    "    predTestY = clf5.predict(data_test_x)\n",
    "\n",
    "    # calculer la Précision\n",
    "    trainAcc.append(accuracy_score(data_train_y, predTrainY))\n",
    "    testAcc.append(accuracy_score(data_test_y, predTestY))"
   ]
  },
  {
   "cell_type": "markdown",
   "metadata": {},
   "source": [
    "afficher les resultats(la Précision) sur graph pour mieux compare la resultats de predicition ( pour les data teste et data train)"
   ]
  },
  {
   "cell_type": "code",
   "execution_count": 83,
   "metadata": {},
   "outputs": [
    {
     "data": {
      "image/png": "[encoded data removed]",
      "text/plain": [
       "<Figure size 432x288 with 1 Axes>"
      ]
     },
     "metadata": {
      "needs_background": "light"
     },
     "output_type": "display_data"
    }
   ],
   "source": [
    "plt.plot(nbrNeighbors, trainAcc, 'ro-', nbrNeighbors,\n",
    "testAcc,'bv--')\n",
    "plt.legend(['Training Accuracy','Test Accuracy'])\n",
    "plt.xlabel('Number of neighbors')\n",
    "plt.ylabel('Accuracy')\n",
    "plt.show()"
   ]
  }
 ],
 "metadata": {
  "kernelspec": {
   "display_name": "Python 3.10.4 64-bit",
   "language": "python",
   "name": "python3"
  },
  "language_info": {
   "codemirror_mode": {
    "name": "ipython",
    "version": 3
   },
   "file_extension": ".py",
   "mimetype": "text/x-python",
   "name": "python",
   "nbconvert_exporter": "python",
   "pygments_lexer": "ipython3",
   "version": "3.10.4"
  },
  "orig_nbformat": 4,
  "vscode": {
   "interpreter": {
    "hash": "8d9a3a48b631d57997f1f182f71de06b9798290a4b7c7cc56fc227acd77acfd6"
   }
  }
 },
 "nbformat": 4,
 "nbformat_minor": 2
}
